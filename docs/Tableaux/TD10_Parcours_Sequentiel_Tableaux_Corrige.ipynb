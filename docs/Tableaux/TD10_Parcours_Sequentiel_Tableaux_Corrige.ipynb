{
 "cells": [
  {
   "cell_type": "markdown",
   "metadata": {},
   "source": [
    "<table  style=\"background-color:  #E7D052; width:100%;\">\n",
    "    <thead>\n",
    "        <tr>\n",
    "            <th style=\"text-align:center;border:solid;border-width:1px;font-size:20pt;width:70%;\">TD n°10 : Parcours séquentiel d'un tableau bis</th>\n",
    "            <th style=\"text-align:center;border:solid;border-width:1px;font-size:12pt;width:30%\">Thème 4 : Langages et Programmation</th>\n",
    "        </tr>\n",
    "               <tr>\n",
    "            <th style=\"text-align:center;border:solid;border-width:1px;font-size:15pt;width:70%;\">EXERCICES TYPE EPREUVE PRATIQUE en Terminale</th>\n",
    "            <th style=\"text-align:center;border:solid;border-width:1px;font-size:12pt;width:30%\">EXERCICES</th>\n",
    "        </tr>\n",
    "    </thead>\n",
    "</table>"
   ]
  },
  {
   "cell_type": "markdown",
   "metadata": {},
   "source": [
    "# TD n°10\n",
    "## Exercice n°1 : Tableaux et extremums - plus grand écart\n",
    "\n",
    "\n",
    "On appelle ici plus grand écart d'un tableau de nombres, la plus grande différence que l'on peut trouver entre deux valeurs **pas forcément consécutives**. Par exemple avec ce tableau :\n",
    "```python\n",
    "[7, 4, 3, 6, -2, 4, 3, 1, 8]\n",
    "```\n",
    "le plus grand écart est 10 qui correspond à la différence entre -2 et 8. Et avec ce tableau :\n",
    "```python\n",
    "[7, 4, 3, 16, 8, 4, 3, 1, -3, -7, -20, 5, 7]\n",
    "```\n",
    "le plus grand écart est 36 qui correspond à l'écart entre -20 et 16. \n",
    "\n",
    "<hr/>\n",
    "\n",
    "Créer la fonction `plus_grand_ecart` ci-dessous qui prend en paramètre un tableau de nombres non vide `tab` et renvoie le plus grand écart de ce tableau."
   ]
  },
  {
   "cell_type": "code",
   "execution_count": 1,
   "metadata": {},
   "outputs": [],
   "source": [
    "def maxi(tab):\n",
    "    if len(tab)==0:\n",
    "        return None\n",
    "    else:\n",
    "        maximum=tab[0]\n",
    "        for elt in tab:\n",
    "            if elt>maximum:\n",
    "                maximum=elt\n",
    "        return maximum\n",
    "    \n",
    "def mini(tab):\n",
    "    if len(tab)==0:\n",
    "        return None\n",
    "    else:\n",
    "        minimum=tab[0]\n",
    "        for elt in tab:\n",
    "            if elt<minimum:\n",
    "                minimum=elt\n",
    "        return minimum\n",
    "    \n",
    "\n",
    "def plus_grand_ecart(tab):\n",
    "    return maxi(tab)-mini(tab)"
   ]
  },
  {
   "cell_type": "markdown",
   "metadata": {},
   "source": [
    "Tester votre fonction en utilisant le jeu de tests ci-dessous."
   ]
  },
  {
   "cell_type": "code",
   "execution_count": 2,
   "metadata": {},
   "outputs": [],
   "source": [
    "assert plus_grand_ecart([7, 4, 3, 6, -2, 4, 3, 1, 8]) == 10\n",
    "assert plus_grand_ecart([7, 4, 3, 16, 8, 4, 3, 1, -3, -7, -20, 5, 7]) == 36\n",
    "assert plus_grand_ecart([6, 6, 6, 6, 6]) == 0\n",
    "assert plus_grand_ecart([7]) == 0"
   ]
  },
  {
   "cell_type": "markdown",
   "metadata": {},
   "source": [
    "## Exercice n°2 : Tableaux et extremums : plus grande puissance\n",
    "\n",
    "On dispose de tableaux **de taille paire** dont les valeurs correspondent à des mesures effectuées aux bornes d'une résistance. Plus précisément :\n",
    "- les valeurs d'indices pairs correspondent à la tension `U`,\n",
    "- les valeurs d'indices impairs correspondent à l'intensité `I`.\n",
    "\n",
    "Par exemple avec ce tableau de six valeurs :\n",
    "```python\n",
    "[19, 6, 23, 5, 20, 4]\n",
    "```\n",
    "on dispose de trois mesures :\n",
    "- la première avec une tension de 19 V et une intensité de 6 A (soit une puissance de 19 * 6 = 114 Watts),\n",
    "- la seconde avec une tension de 23 V et une intensité de 5 A (soit une puissance de 23 * 5 = 115 Watts),\n",
    "- la troisième avec une tension de 20 V et une intensité de 4 A (soit une puissance de 20 * 4 = 80 Watts).\n",
    "\n",
    "On cherche à déterminer la puissance maximale présente dans les tableaux de mesures, c'est à dire la plus grande valeur `tab[i] * tab[i+1]` avec l'indice `i` pair.  \n",
    "\n",
    "<hr/>"
   ]
  },
  {
   "cell_type": "markdown",
   "metadata": {},
   "source": [
    "Compléter la fonction `plus_grand_produit` ci-dessous qui :\n",
    "- prend en paramètre un tableau de nombres `mesures` de taille paire non nulle,\n",
    "- qui renvoie le plus grand produit de la forme `mesures[i] * mesures[i+1]` avec l'indice `i` pair."
   ]
  },
  {
   "cell_type": "code",
   "execution_count": 3,
   "metadata": {},
   "outputs": [
    {
     "data": {
      "text/plain": [
       "35"
      ]
     },
     "execution_count": 3,
     "metadata": {},
     "output_type": "execute_result"
    }
   ],
   "source": [
    "\n",
    "def plus_grand_produit(mesures):\n",
    "    pmax = mesures[0] * mesures[1]\n",
    "    for i in range(0, len(mesures), 2) :\n",
    "        if mesures[i] * mesures[i+1] > pmax :\n",
    "            pmax = mesures[i] * mesures[i+1]\n",
    "    return pmax\n",
    "\n",
    "plus_grand_produit([7, 4, 6, 5, 7, 5, 6, 4, 5, 5])\n",
    "\n"
   ]
  },
  {
   "cell_type": "markdown",
   "metadata": {},
   "source": [
    "Tester votre fonction en utilisant le jeu de tests ci-dessous."
   ]
  },
  {
   "cell_type": "code",
   "execution_count": 4,
   "metadata": {},
   "outputs": [],
   "source": [
    "assert plus_grand_produit([7, 4, 6, 5, 7, 5, 6, 4, 5, 5]) == 35\n",
    "assert plus_grand_produit([10, 3, 9, 3, 10, 4, 9, 5, 8, 5]) == 45\n",
    "assert plus_grand_produit([6, 8, 6, 8, 12, 5]) == 60\n",
    "assert plus_grand_produit([8, 8, 6, 8, 12, 5]) == 64\n",
    "assert plus_grand_produit([2, 1]) == 2"
   ]
  },
  {
   "cell_type": "markdown",
   "metadata": {},
   "source": [
    "## Exercice n°3 : tableaux définis en compréhension : bonus sur les notes  \n",
    "On dispose d'un tableau de notes comprises entre 0 et 20 et on souhaite augmenter les notes de tout le monde de deux points (en ne dépassant pas 20).  \n",
    "Compléter la fonction `bonus` ci-dessous qui prend en paramètre `tab` un tableau de notes et **renvoie un nouveau tableau** `nv_tab` dont les éléments sont les notes augmentées de 2 points (sans toutefois dépasser 20)."
   ]
  },
  {
   "cell_type": "code",
   "execution_count": 5,
   "metadata": {},
   "outputs": [
    {
     "data": {
      "text/plain": [
       "[14, 10, 7, 20, 20, 20, 16, 14, 13, 11]"
      ]
     },
     "execution_count": 5,
     "metadata": {},
     "output_type": "execute_result"
    }
   ],
   "source": [
    "def bonus(tab):\n",
    "    nv_tab = []\n",
    "    for note in tab:\n",
    "        if note<18:\n",
    "            nv_tab.append(note+2)\n",
    "        else:\n",
    "            nv_tab.append(20)\n",
    "    return nv_tab\n",
    "\n",
    "t=[12,8,5,18,19,20,14,12,11,9]\n",
    "\n",
    "bonus(t)\n"
   ]
  },
  {
   "cell_type": "markdown",
   "metadata": {},
   "source": [
    "## Exercice n°4 : tableaux et accumulation : produit des valeurs\n",
    "\n",
    "Il s'agit ici de faire le produit (la multiplication) de tous les nombres présents dans le tableau.\n",
    "\n",
    "Compléter la fonction `produit` ci-dessous qui prend en paramètre un tableau `tab` et renvoie le produit de tous les nombres présents dans le tableau `tab`.  \n",
    "\n",
    "Par convention, si le tableau est vide on considérera que le produit est égal à 1.\n",
    "\n",
    "On réfléchira à la valeur initiale de la variable `produit`. "
   ]
  },
  {
   "cell_type": "code",
   "execution_count": 6,
   "metadata": {},
   "outputs": [],
   "source": [
    "def produit(tab):\n",
    "    produit=1\n",
    "    for elt in tab:\n",
    "        produit*=elt\n",
    "    return produit\n"
   ]
  },
  {
   "cell_type": "markdown",
   "metadata": {},
   "source": [
    "Tester votre fonction grâce au jeu de tests ci-dessous."
   ]
  },
  {
   "cell_type": "code",
   "execution_count": 7,
   "metadata": {},
   "outputs": [],
   "source": [
    "tab = [2, 3, 2]\n",
    "assert produit(tab) == 12\n",
    "\n",
    "tab = [1, 2, 3, 4, 5, 6]\n",
    "assert produit(tab) == 720\n",
    "\n",
    "tab = [1, 1, 1, 1, 1, 1]\n",
    "assert produit(tab) == 1\n",
    "\n",
    "tab = [1, 14, 32, 0, 15, 6]\n",
    "assert produit(tab) == 0\n",
    "\n",
    "tab = []\n",
    "assert produit(tab) == 1\n",
    "\n",
    "tab = [7]\n",
    "assert produit(tab) == 7\n",
    "\n",
    "tab = [12, 11, 3, 21, 5, 41, 4, 6, 4, 7]\n",
    "assert produit(tab) == 1145612160"
   ]
  },
  {
   "cell_type": "markdown",
   "metadata": {},
   "source": [
    "## Exercice n°5 : tableaux et accumulation : compter les sauts en hauteur\n",
    "\n",
    "\n",
    "On dit que dans un tableau de nombres, il y a un «saut en hauteur» lorsqu'une valeur est supérieure à la valeur précédente. Par exemple dans le tableau suivant :\n",
    "```python\n",
    "[7, 4, 3, 6, 7, 4, 3, 1, 8, 8]\n",
    "```\n",
    "il y a trois sauts en hauteur : \n",
    "- entre les indices 2 et 3 (pour passer de la valeur 3 à la valeur 6), \n",
    "- entre les indices 3 et 4 (pour passer de la valeur 6 à la valeur 7),\n",
    "- et entre les indices 7 et 8 (pour passer de la valeur 1 à la valeur 8).\n",
    "\n",
    "Plus formellement, dans un tableau `tab` de taille `n` on dit qu'il y a un saut en hauteur à l'indice `i` lorsque `tab[i] < tab[i+1]`.  \n",
    "\n",
    "<hr/>\n",
    "\n",
    "\n",
    "Voici le schéma d'un tableau `tab` de taille `n` :\n",
    "```\n",
    "---------------------------------------------\n",
    "| indices | 0 | 1 | 2 | 3 | ... | n-2 | n-1 |\n",
    "---------------------------------------------\n",
    "| valeurs | . | . | . | . | ... |  .  |  .  |\n",
    "---------------------------------------------\n",
    "```\n",
    "Le plus grand indice possible est donc `n-1`.  \n",
    "\n",
    "Pour avoir le droit d'écrire `tab[i] < tab[i+1]` avec un tableau `tab` de taille `n`, quelle est alors la plus grande valeur de `i` possible : `n-2`, `n-1`, `n` ou `n+1` ?"
   ]
  },
  {
   "cell_type": "markdown",
   "metadata": {},
   "source": [
    "Compléter la fonction `compter_sauts_en_hauteur` ci-dessous qui prend en paramètre un tableau `tab` de nombres et renvoie le nombre de sauts en hauteur présents dans le tableau `tab`.  \n",
    "\n",
    "Le parcours de `tab` sera fait par indice."
   ]
  },
  {
   "cell_type": "code",
   "execution_count": 8,
   "metadata": {},
   "outputs": [],
   "source": [
    "def compter_sauts_en_hauteur(tab):\n",
    "    compteur = 0\n",
    "\n",
    "    for i in range(len(tab)-1):\n",
    "        if tab[i] < tab[i+1] :\n",
    "            compteur = compteur + 1\n",
    "\n",
    "    return compteur"
   ]
  },
  {
   "cell_type": "markdown",
   "metadata": {},
   "source": [
    "Tester votre fonction grâce au jeu de tests ci-dessous."
   ]
  },
  {
   "cell_type": "code",
   "execution_count": 9,
   "metadata": {},
   "outputs": [],
   "source": [
    "tab = [7, 4, 3, 6, 7, 4, 3, 1, 8]\n",
    "assert compter_sauts_en_hauteur(tab) == 3\n",
    "\n",
    "tab = [7, 4, 3, 6, 7, 4, 3, 1, 8, 2, 5, 6, 5, 8, 1, 9, 0, 1, 5, 6, 3, 7, 8, 3, 3, 4, 5, 5, 2 ]\n",
    "assert compter_sauts_en_hauteur(tab) == 14\n",
    "\n",
    "tab = [1, 2, 3, 4, 5, 6, 7, 8, 9]\n",
    "assert compter_sauts_en_hauteur(tab) == 8\n",
    "\n",
    "tab = []\n",
    "assert compter_sauts_en_hauteur(tab) == 0\n",
    "\n",
    "tab = [1]\n",
    "assert compter_sauts_en_hauteur(tab) == 0\n",
    "\n",
    "tab = [7, 7, 7, 7]\n",
    "assert compter_sauts_en_hauteur(tab) == 0"
   ]
  },
  {
   "cell_type": "markdown",
   "metadata": {},
   "source": [
    "## Exercice n°6 : tableaux et accumulation : compter les différences\n",
    "\n",
    "On dispose ici de deux tableaux de même longueur. Il s'agit de calculer le nombre de différences entre les deux tableaux. Par exemple avec :\n",
    "```python\n",
    "tab_1  = ['a', 'g', 'u', 'u', 'c', 'o', 'p', 'l', 'm', 'v', 'p']\n",
    "tab_2  = ['a', 'g', 's', 'u', 'c', 'k', 'p', 'l', 't', 'v', 'p']\n",
    "```\n",
    "il y a trois différences entre les deux tableaux : aux indices `2, 5` et `8`. \n",
    "\n",
    "<hr/>\n",
    "\n",
    "\n",
    "Compléter la fonction `compter_differences` ci-dessous qui prend en paramètre deux tableaux `tab_1` et `tab_2` de même longueur et renvoie le nombre de différences entre les deux tableaux."
   ]
  },
  {
   "cell_type": "code",
   "execution_count": 10,
   "metadata": {},
   "outputs": [],
   "source": [
    "def compter_differences(tab_1, tab_2):\n",
    "    compteur = 0\n",
    "\n",
    "    for i in range(len(tab_1)) :\n",
    "        if tab_1[i] != tab_2[i]:\n",
    "            compteur = compteur + 1\n",
    "\n",
    "    return compteur"
   ]
  },
  {
   "cell_type": "markdown",
   "metadata": {},
   "source": [
    "Tester votre fonction grâce au jeu de tests ci-dessous."
   ]
  },
  {
   "cell_type": "code",
   "execution_count": 11,
   "metadata": {},
   "outputs": [],
   "source": [
    "tab_1  = ['a', 'g', 'u', 'u', 'c', 'o', 'p', 'l', 'm', 'v', 'p']\n",
    "tab_2  = ['a', 'g', 's', 'u', 'c', 'k', 'p', 'l', 't', 'v', 'p']\n",
    "assert compter_differences(tab_1, tab_2) == 3\n",
    "\n",
    "tab_1  = ['a', 'g', 'u', 'u', 'c', 'o', 'p', 'l', 'm', 'v', 'p']\n",
    "tab_2  = ['a', 'g', 'u', 'u', 'c', 'o', 'p', 'l', 'm', 'v', 'p']\n",
    "assert compter_differences(tab_1, tab_2) == 0\n",
    "\n",
    "tab_1  = ['a', 'g', 'u', 'u', 'c', 'o', 'p', 'l', 'm', 'v', 'p']\n",
    "tab_2  = ['g', 'u', 'u', 'c', 'o', 'p', 'l', 'm', 'v', 'p', 'a']\n",
    "assert compter_differences(tab_1, tab_2) == 10\n",
    "\n",
    "tab_1  = ['a']\n",
    "tab_2  = ['b']\n",
    "assert compter_differences(tab_1, tab_2) == 1\n",
    "\n",
    "\n",
    "tab_1  = []\n",
    "tab_2  = []\n",
    "assert compter_differences(tab_1, tab_2) == 0"
   ]
  },
  {
   "cell_type": "markdown",
   "metadata": {},
   "source": [
    "## Exercice n°7 : tableaux : frais de gestion  \n",
    "Un site de petites annonces prend des frais sur les mises en vente.\n",
    "- Si le prix net vendeur est inférieur ou égal à 15 euros, l'acheteur doit payer 0,50 euro de frais de gestion en plus.\n",
    "- si le prix net vendeur est strictement supérieur à 15 euros, l'acheteur doit payer 1 euro de frais de gestion en plus.\n",
    "\n",
    "\n",
    "Compléter la fonction `prix_acheteurs` ci-dessous qui prend en paramètre un tableau `pnv` de prix nets vendeur et **renvoie un nouveau tableau** correspondant aux prix payés par les acheteurs."
   ]
  },
  {
   "cell_type": "code",
   "execution_count": 12,
   "metadata": {},
   "outputs": [],
   "source": [
    "def prix_acheteurs(pnv):\n",
    "    t=[]\n",
    "    for elt in pnv:\n",
    "        if elt<=15:\n",
    "            t.append(elt+0.5)\n",
    "        else:\n",
    "            t.append(elt+1)\n",
    "    return t\n",
    "            \n"
   ]
  },
  {
   "cell_type": "markdown",
   "metadata": {},
   "source": [
    "Tester votre fonction grâce au jeu de tests ci-dessous."
   ]
  },
  {
   "cell_type": "code",
   "execution_count": 13,
   "metadata": {},
   "outputs": [],
   "source": [
    "assert prix_acheteurs([14, 11, 19.99, 13.99, 7.50, 2, 19, 35.50]) == [14.5, 11.5, 20.99, 14.49, 8.0, 2.5, 20, 36.5]\n",
    "\n",
    "assert prix_acheteurs([30, 110, 230, 350, 210]) == [31, 111, 231, 351, 211]\n",
    "\n",
    "assert prix_acheteurs([3, 6, 1, 7, 9]) == [3.5, 6.5, 1.5, 7.5, 9.5]\n",
    "\n",
    "assert prix_acheteurs([]) == []\n",
    "\n",
    "assert prix_acheteurs([15]) == [15.5]"
   ]
  },
  {
   "cell_type": "markdown",
   "metadata": {},
   "source": [
    "## Exercice n°8 : Tableaux et extremums : solde maximal\n",
    "\n",
    "\n",
    "On dispose d'un montant `m` de départ (par exemple `m = 17`) et d'un tableau `op` donnant les opérations bancaires successives réalisées sur un compte  en banque, par exemple :\n",
    "```python\n",
    "op = [150, -40, 18, -132, -7, -1, 29, 105]\n",
    "```\n",
    "qui correspond à un dépôt de 150 € puis  à une dépense de 40 € puis à un dépôt de 18 € puis à trois dépenses de 132 €, 7 € et 1€ puis à deux dépôts de 29 € et 105 €.  \n",
    "\n",
    "Avec l'exemple précédent les soldes (le «solde» d'un compte bancaire est le montant présent sur le compte) successifs sont :  \n",
    "\n",
    "`17 --> 167 --> 127 --> 145 --> 13 --> 6 --> 5 --> 34 --> 139`\n",
    "\n",
    "Ce qui correspond au tableau `tab_soldes` suivant :\n",
    "\n",
    "```python\n",
    "[17, 167, 127, 145, 13, 6, 5, 34, 139]\n",
    "```\n",
    "\n",
    "On cherche, à partir de `m` et `op` à obtenir le solde maximal présent sur le compte (sur cet exemple 167 euros).\n",
    "<hr/>"
   ]
  },
  {
   "cell_type": "markdown",
   "metadata": {},
   "source": [
    "Compléter la fonction `solde_maximal` ci-dessous qui prend en paramètres un montant `m` de départ ainsi qu'un tableau `op` donnant les opérations bancaires successives et qui renvoie solde maximal présent sur le compte.  \n",
    "\n",
    "*Remarque :* Ici on procède comme pour un calcul de somme. On calcule le solde final du compte (variable `solde`) en vérifiant au passage si on dépasse la maximum en mémoire.\n",
    "```python\n",
    "solde = m                                   ---> Max = m\n",
    "solde = solde + op[0]                       ---> supérieur au Max en mémoire ? si oui ...\n",
    "solde = solde + op[1]                       ---> supérieur au Max en mémoire ? si oui ...\n",
    "solde = solde + op[2]                       ---> supérieur au Max en mémoire ? si oui ...\n",
    "solde = solde + op[3]                       ---> supérieur au Max en mémoire ? si oui ...\n",
    "solde = solde + op[4]                       ---> supérieur au Max en mémoire ? si oui ...\n",
    "...\n",
    "```"
   ]
  },
  {
   "cell_type": "code",
   "execution_count": 14,
   "metadata": {},
   "outputs": [],
   "source": [
    "def solde_maximal(m, op):\n",
    "\n",
    "    solde = m\n",
    "    solde_max = m\n",
    "\n",
    "    for operation in op:\n",
    "        solde = solde + operation\n",
    "        if solde > solde_max :\n",
    "            solde_max = solde\n",
    "\n",
    "    return solde_max"
   ]
  },
  {
   "cell_type": "markdown",
   "metadata": {},
   "source": [
    "Tester votre fonction en utilisant le jeu de tests ci-dessous."
   ]
  },
  {
   "cell_type": "code",
   "execution_count": 15,
   "metadata": {},
   "outputs": [],
   "source": [
    "assert solde_maximal(17, [150, -40, 18, -132, -7, -1, 29, 105]) == 167\n",
    "assert solde_maximal(1875, [150, -140, 148, -12, -75, -778, 290, -105]) == 2033\n",
    "assert solde_maximal(19, [150, -140, 148, -105, 150, -140, 148, -12, -75, 778, -290, -105, -12, -75, -278, 290]) == 921\n",
    "assert solde_maximal(777, []) == 777"
   ]
  },
  {
   "cell_type": "code",
   "execution_count": null,
   "metadata": {},
   "outputs": [],
   "source": []
  }
 ],
 "metadata": {
  "kernelspec": {
   "display_name": "Python 3",
   "language": "python",
   "name": "python3"
  },
  "language_info": {
   "codemirror_mode": {
    "name": "ipython",
    "version": 3
   },
   "file_extension": ".py",
   "mimetype": "text/x-python",
   "name": "python",
   "nbconvert_exporter": "python",
   "pygments_lexer": "ipython3",
   "version": "3.9.7"
  }
 },
 "nbformat": 4,
 "nbformat_minor": 4
}
