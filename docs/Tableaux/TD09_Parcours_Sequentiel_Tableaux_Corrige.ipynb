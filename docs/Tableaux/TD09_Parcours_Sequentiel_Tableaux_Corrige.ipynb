{
 "cells": [
  {
   "cell_type": "markdown",
   "metadata": {},
   "source": [
    "<table  style=\"background-color:  #E7D052; width:100%;\">\n",
    "    <thead>\n",
    "        <tr>\n",
    "            <th style=\"text-align:center;border:solid;border-width:1px;font-size:20pt;width:70%;\">TD n°9 : Parcours séquentiel d'un tableau</th>\n",
    "            <th style=\"text-align:center;border:solid;border-width:1px;font-size:12pt;width:30%\">Thème 4 : Langages et Programmation</th>\n",
    "        </tr>\n",
    "               <tr>\n",
    "            <th style=\"text-align:center;border:solid;border-width:1px;font-size:15pt;width:70%;\">EXERCICES TYPE EPREUVE PRATIQUE en Terminale</th>\n",
    "            <th style=\"text-align:center;border:solid;border-width:1px;font-size:12pt;width:30%\">EXERCICES</th>\n",
    "        </tr>\n",
    "    </thead>\n",
    "</table>"
   ]
  },
  {
   "cell_type": "markdown",
   "metadata": {},
   "source": [
    "# TD n°9\n",
    "## Exercice 9.1 :  \n",
    "Ecrire une fonction qui prend en paramètre un tableau d'entiers non vide et qui renvoie la\n",
    "moyenne de ces entiers. La fonction est spécifiée ci-après et doit passer les assertions\n",
    "fournies."
   ]
  },
  {
   "cell_type": "code",
   "execution_count": 4,
   "metadata": {},
   "outputs": [],
   "source": [
    "def moyenne (tab):\n",
    "    '''\n",
    "    moyenne(list) -> float\n",
    "    Entrée : un tableau non vide d'entiers\n",
    "    Sortie : nombre de type float\n",
    "    Correspondant à la moyenne des valeurs présentes dans le tableau\n",
    "    '''\n",
    "    somme=0\n",
    "    for elt in tab:\n",
    "        somme+=elt\n",
    "    moy=somme/len(tab)\n",
    "    return moy\n"
   ]
  },
  {
   "cell_type": "code",
   "execution_count": 5,
   "metadata": {},
   "outputs": [],
   "source": [
    "#Jeu de tests - A ne pas modifier\n",
    "assert moyenne([1]) == 1\n",
    "assert moyenne([1,2,3,4,5,6,7]) == 4\n",
    "assert moyenne([1,2]) == 1.5"
   ]
  },
  {
   "cell_type": "markdown",
   "metadata": {},
   "source": [
    "## Exercice 9.2 : \n",
    "Écrire une fonction `recherche` qui prend en paramètres `elt` un nombre et `tab` un tableau de nombres, et qui renvoie le tableau des indices de elt dans tab si elt est dans tab et le tableau vide [] sinon.  \n",
    "Exemples : \n",
    "```python\n",
    ">>> recherche(3, [3, 2, 1, 3, 2, 1])\n",
    "[0, 3] \n",
    ">>> recherche(4, [1, 2, 3]) \n",
    "[] \n",
    "```"
   ]
  },
  {
   "cell_type": "code",
   "execution_count": 8,
   "metadata": {},
   "outputs": [
    {
     "data": {
      "text/plain": [
       "[]"
      ]
     },
     "execution_count": 8,
     "metadata": {},
     "output_type": "execute_result"
    }
   ],
   "source": [
    "def recherche(elt,tab):\n",
    "    reponse=[]\n",
    "    for indice in range(len(tab)):\n",
    "        if elt==tab[indice]:\n",
    "            reponse.append(indice)\n",
    "    return reponse\n",
    "\n",
    "recherche(3, [3, 2, 1, 3, 2, 1])\n",
    "recherche(4, [1, 2, 3]) "
   ]
  },
  {
   "cell_type": "markdown",
   "metadata": {},
   "source": [
    "## Exercice 9.3 : \n",
    "On  a  relevé  les  valeurs  moyennes  annuelles  des  températures  à  Paris  pour  la  période allant de 2013 à 2019. Les résultats ont été récupérés sous la forme de deux listes :   \n",
    "* l’une pour les températures,  t_moy = [14.9, 13.3, 13.1, 12.5, 13.0, 13.6, 13.7] \n",
    "* l’autre pour les années : annees = [2013, 2014, 2015, 2016, 2017, 2018, 2019]  \n",
    "Écrire la fonction `mini` qui prend en paramètres le tableau releve  des relevés et le tableau date des dates et qui renvoie la plus petite valeur relevée au cours de la période et l’année correspondante. \n",
    "\n",
    "```python\n",
    "Exemple : >>> mini(t_moy, annees)\n",
    "12.5 , 2016\n",
    "```"
   ]
  },
  {
   "cell_type": "code",
   "execution_count": 10,
   "metadata": {},
   "outputs": [
    {
     "data": {
      "text/plain": [
       "(12.5, 2016)"
      ]
     },
     "execution_count": 10,
     "metadata": {},
     "output_type": "execute_result"
    }
   ],
   "source": [
    "def mini(t1,t2):\n",
    "    minimum=t1[0]\n",
    "    indicemini=0\n",
    "    for indice in range(len(t1)):\n",
    "        if t1[indice]<minimum:\n",
    "            minimum=t1[indice]\n",
    "            indicemini=indice\n",
    "    return minimum,t2[indicemini]\n",
    "\n",
    "\n",
    "t_moy = [14.9, 13.3, 13.1, 12.5, 13.0, 13.6, 13.7]\n",
    "annees = [2013, 2014, 2015, 2016, 2017, 2018, 2019]\n",
    "\n",
    "mini(t_moy, annees)"
   ]
  },
  {
   "cell_type": "markdown",
   "metadata": {},
   "source": [
    "## Exercice 9.4 :  \n",
    "Écrire une fonction `maxi` qui prend en paramètre une liste tab de nombres entiers et\n",
    "renvoie un couple donnant le plus grand élément de cette liste, ainsi que l’indice de la\n",
    "première apparition de ce maximum dans la liste.\n",
    "Exemple :\n",
    "```python\n",
    ">>> maxi([1,5,6,9,1,2,3,7,9,8])\n",
    "(9,3)\n",
    "```"
   ]
  },
  {
   "cell_type": "code",
   "execution_count": 13,
   "metadata": {},
   "outputs": [
    {
     "data": {
      "text/plain": [
       "(9, 3)"
      ]
     },
     "execution_count": 13,
     "metadata": {},
     "output_type": "execute_result"
    }
   ],
   "source": [
    "def maxi(tab):\n",
    "    maximum=tab[0]\n",
    "    indicemaxi=0\n",
    "    for indice in range(len(tab)):\n",
    "        if tab[indice]>maximum:\n",
    "            maximum=tab[indice]\n",
    "            indicemaxi=indice\n",
    "    return (maximum,indicemaxi)\n",
    "\n",
    "\n",
    "maxi([1,5,6,9,1,2,3,7,9,8])"
   ]
  },
  {
   "cell_type": "markdown",
   "metadata": {},
   "source": [
    "## Exercice 9.5 : \n",
    "Écrire une fonction `RechercheMinMax` qui prend en paramètre un tableau de nombres\n",
    "non triés tab, et qui renvoie la plus petite et la plus grande valeur du tableau sous la\n",
    "forme d’un dictionnaire à deux clés ‘min’ et ‘max’. Les tableaux seront représentés sous\n",
    "forme de liste Python.\n",
    "\n",
    "Exemples :\n",
    "```python\n",
    ">>> tableau = [0, 1, 4, 2, -2, 9, 3, 1, 7, 1]\n",
    ">>> resultat = rechercheMinMax(tableau)\n",
    ">>> resultat\n",
    "[ -2, 9]\n",
    "\n",
    ">>> tableau = []\n",
    ">>> resultat = rechercheMinMax(tableau)\n",
    ">>> resultat\n",
    "[ None, None]\n",
    "```"
   ]
  },
  {
   "cell_type": "code",
   "execution_count": 1,
   "metadata": {},
   "outputs": [
    {
     "data": {
      "text/plain": [
       "[-2, 9]"
      ]
     },
     "execution_count": 1,
     "metadata": {},
     "output_type": "execute_result"
    }
   ],
   "source": [
    "def RechercheMinMax(tab):\n",
    "    if len(tab)==0:\n",
    "        return [None,None]\n",
    "    else:\n",
    "        minimum=tab[0]\n",
    "        maximum=tab[0]\n",
    "\n",
    "        for elt in tab:\n",
    "            if elt>maximum:\n",
    "                maximum=elt\n",
    "            if elt<minimum:\n",
    "                minimum=elt\n",
    "        return [minimum, maximum]\n",
    "    \n",
    "tableau = [0, 1, 4, 2, -2, 9, 3, 1, 7, 1]\n",
    "RechercheMinMax(tableau)"
   ]
  },
  {
   "cell_type": "code",
   "execution_count": 3,
   "metadata": {},
   "outputs": [
    {
     "data": {
      "text/plain": [
       "[-2, 9]"
      ]
     },
     "execution_count": 3,
     "metadata": {},
     "output_type": "execute_result"
    }
   ],
   "source": [
    "def maxi(tab):\n",
    "    if len(tab)==0:\n",
    "        return None\n",
    "    else:\n",
    "        maximum=tab[0]\n",
    "        for elt in tab:\n",
    "            if elt>maximum:\n",
    "                maximum=elt\n",
    "        return maximum\n",
    "    \n",
    "def mini(tab):\n",
    "    if len(tab)==0:\n",
    "        return None\n",
    "    else:\n",
    "        minimum=tab[0]\n",
    "        for elt in tab:\n",
    "            if elt<minimum:\n",
    "                minimum=elt\n",
    "        return minimum\n",
    "    \n",
    "    \n",
    "def rechercheMinMaxbis(tab):\n",
    "    return [mini(tab),maxi(tab)]\n",
    "    \n",
    "tableau = [0, 1, 4, 2, -2, 9, 3, 1, 7, 1]\n",
    "RechercheMinMax(tableau)"
   ]
  },
  {
   "cell_type": "markdown",
   "metadata": {},
   "source": [
    "## Exercice 9.6 :  \n",
    "Écrire une fonction `RechercheMin` qui prend en paramètre un tableau de nombres non\n",
    "trié tab, et qui renvoie le minimum et l'indice de la première occurrence du minimum de ce tableau. Les\n",
    "tableaux seront représentés sous forme de liste Python.\n",
    "\n",
    "Exemples :\n",
    "```python\n",
    ">>> indice_du_min([5])\n",
    "(5,0)\n",
    ">>> indice_du_min([2, 4, 1])\n",
    "(1,2)\n",
    ">>> indice_du_min([5, 3, 2, 2, 4])\n",
    "(2,2)\n",
    "```"
   ]
  },
  {
   "cell_type": "code",
   "execution_count": 15,
   "metadata": {},
   "outputs": [
    {
     "data": {
      "text/plain": [
       "(1, 2)"
      ]
     },
     "execution_count": 15,
     "metadata": {},
     "output_type": "execute_result"
    }
   ],
   "source": [
    "def RechercheMin(tab):\n",
    "    if len(tab)==0:\n",
    "        return None\n",
    "    else:\n",
    "        minimum=tab[0]\n",
    "        indicemini=0\n",
    "        for indice in range(len(tab)):\n",
    "            if tab[indice]<minimum:\n",
    "                minimum=tab[indice]\n",
    "                indicemini=indice\n",
    "            \n",
    "        return (minimum, indicemini)\n",
    "    \n",
    "RechercheMin([2, 4, 1])\n"
   ]
  },
  {
   "cell_type": "markdown",
   "metadata": {},
   "source": [
    "## Exercice 9.7 :  \n",
    "Écrire une fonction occurrence_max prenant en paramètres une chaîne de caractères\n",
    "chaine et qui renvoie le caractère le plus fréquent de la chaîne. La chaine ne contient\n",
    "que des lettres en minuscules sans accent.\n",
    "On pourra s’aider du tableau\n",
    "\n",
    "```python\n",
    "alphabet=['a','b','c','d','e','f','g','h','i','j','k','l','m','n','o,','p','q','r','s','t','u','v','w','x','y','z']\n",
    "```\n",
    "\n",
    "et du tableau occurrence de 26 éléments où l’on mettra dans occurrence[i] le\n",
    "nombre d’apparitions de alphabet[i] dans la chaine. Puis on calculera l’indice k d’un\n",
    "maximum du tableau occurrence et on affichera alphabet[k].\n",
    "Exemple :\n",
    "```python\n",
    ">>> ch='je suis en terminale et je passe le bac et je souhaite poursuivre des etudes pour devenir expert en informatique’\n",
    ">>> occurrence_max(ch)\n",
    "‘e’\n",
    "```"
   ]
  },
  {
   "cell_type": "code",
   "execution_count": 6,
   "metadata": {},
   "outputs": [
    {
     "data": {
      "text/plain": [
       "('e', 21)"
      ]
     },
     "execution_count": 6,
     "metadata": {},
     "output_type": "execute_result"
    }
   ],
   "source": [
    "def occurrence_max(ch):\n",
    "    alphabet=['a','b','c','d','e','f','g','h','i','j','k','l','m','n','o,','p','q','r','s','t','u','v','w','x','y','z']\n",
    "    lettremax=''\n",
    "    maxi=0\n",
    "    for lettre in alphabet:\n",
    "        compteur=0\n",
    "        for caract in ch:\n",
    "            if lettre==caract:\n",
    "                compteur+=1\n",
    "        if compteur>maxi:\n",
    "            maxi=compteur\n",
    "            lettremax=lettre\n",
    "    return lettremax,maxi\n",
    "\n",
    "\n",
    "ch='je suis en terminale et je passe le bac et je souhaite poursuivre des etudes pour devenir expert en informatique'\n",
    "occurrence_max(ch)"
   ]
  },
  {
   "cell_type": "code",
   "execution_count": null,
   "metadata": {},
   "outputs": [],
   "source": []
  }
 ],
 "metadata": {
  "kernelspec": {
   "display_name": "Python 3",
   "language": "python",
   "name": "python3"
  },
  "language_info": {
   "codemirror_mode": {
    "name": "ipython",
    "version": 3
   },
   "file_extension": ".py",
   "mimetype": "text/x-python",
   "name": "python",
   "nbconvert_exporter": "python",
   "pygments_lexer": "ipython3",
   "version": "3.8.5"
  }
 },
 "nbformat": 4,
 "nbformat_minor": 4
}
