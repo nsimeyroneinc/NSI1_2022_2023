{
 "cells": [
  {
   "cell_type": "markdown",
   "metadata": {
    "id": "mA-5NTXhSBoF"
   },
   "source": [
    "<table  style=\"background-color:  #E7D052; width:100%;\">\n",
    "    <thead>\n",
    "        <tr>\n",
    "            <th style=\"text-align:center;border:solid;border-width:1px;font-size:20pt;width:70%;\">TD n°8 : Les types construits : tuples et tableaux</th>\n",
    "            <th style=\"text-align:center;border:solid;border-width:1px;font-size:12pt;width:30%\">Thème 4 : Langages et Programmation</th>\n",
    "        </tr>\n",
    "               <tr>\n",
    "            <th style=\"text-align:center;border:solid;border-width:1px;font-size:20pt;width:70%;\"></th>\n",
    "            <th style=\"text-align:center;border:solid;border-width:1px;font-size:12pt;width:30%\">EXERCICES</th>\n",
    "        </tr>\n",
    "    </thead>\n",
    "</table>"
   ]
  },
  {
   "cell_type": "markdown",
   "metadata": {
    "id": "KIzfAAXyZXwW"
   },
   "source": [
    "## Exercice 5.1\n",
    "\n",
    "On considère la variable `repertoire` suivante."
   ]
  },
  {
   "cell_type": "code",
   "execution_count": null,
   "metadata": {
    "id": "3doUv0JrZhub"
   },
   "outputs": [],
   "source": [
    "repertoire = [('Michel', '0210101010'), ('Marjorie', '0211111111'), ('Perrine', '0212121212')]"
   ]
  },
  {
   "cell_type": "markdown",
   "metadata": {
    "id": "l8RXHrAoZmbi"
   },
   "source": [
    "1. Quel est le type de la variable repertoire ?\n",
    "2. Quel est le type de la variable repertoire[0] ?\n",
    "3. Qu'affiche l'instruction repertoire[1][1] ?\n",
    "4. Quelle instruction permet d'accéder au numéro de téléphone de Michel ?\n",
    "5. Quel est le type de la variable repertoire[2][0] ?"
   ]
  },
  {
   "cell_type": "markdown",
   "metadata": {
    "id": "DRhqjZ1yZufv"
   },
   "source": [
    "Réponse :  \n",
    "1. \n",
    "2. \n",
    "3. \n",
    "4. \n",
    "5. "
   ]
  },
  {
   "cell_type": "markdown",
   "metadata": {},
   "source": [
    "<details>\n",
    "<summary style=\"border:1pt solid slateblue; border-radius:5pt; width:15%; color:slateblue; padding:3px; background-color: lightcyan\"> Solution </summary>  \n",
    "    \n",
    "<div style=\"border:1pt solid slateblue; border-radius:5pt; color:slateblue; padding:3px; background-color: lightcyan\"> \n",
    "<ul>\n",
    "<li> La variable repertoire est de type list</li>\n",
    "<li> La variable repertoire[0] est de type tuple</li>\n",
    "<li> L'instruction repertoire[1][1] affiche 0211111111</li>\n",
    "<li> Pour accéder au numéro de téléphone de Michel, il faut utiliser l'instruction repertoire[0][1]</li>\n",
    "<li> La variable repertoire[2][0] est de type str</li>\n",
    "</ul>\n",
    "</div>\n",
    "</details>"
   ]
  },
  {
   "cell_type": "markdown",
   "metadata": {
    "id": "_EEc2AIkZwdc"
   },
   "source": [
    "## Exercice 5.2\n",
    "\n",
    "Répondez aux questions suivantes **puis** exécutez la cellule pour vérifier.\n",
    "\n",
    "1. Quel est le tableau construit par les instructions suivantes ?"
   ]
  },
  {
   "cell_type": "code",
   "execution_count": null,
   "metadata": {
    "colab": {
     "base_uri": "https://localhost:8080/"
    },
    "id": "8FQia7rcZ6Ep",
    "outputId": "0d97c6ae-65a8-418c-9f01-f4f4269568bf"
   },
   "outputs": [],
   "source": [
    "t1 = [0]*10\n",
    "for i in range(10):\n",
    "    t1[i] = i"
   ]
  },
  {
   "cell_type": "markdown",
   "metadata": {
    "id": "-qbaaWoDZ8d4"
   },
   "source": [
    "2. Quel est le tableau construit par les instructions suivantes ?"
   ]
  },
  {
   "cell_type": "code",
   "execution_count": null,
   "metadata": {
    "colab": {
     "base_uri": "https://localhost:8080/"
    },
    "id": "u6DpkZX4aAkL",
    "outputId": "eef2e378-e0b7-4bdd-ae0b-bc9b934c639c"
   },
   "outputs": [],
   "source": [
    "t2 = [i+1 for i in range(8)]\n"
   ]
  },
  {
   "cell_type": "markdown",
   "metadata": {
    "id": "P4wl3kN-aCuE"
   },
   "source": [
    "3. Quel est le tableau construit par les instructions suivantes ?"
   ]
  },
  {
   "cell_type": "code",
   "execution_count": null,
   "metadata": {
    "colab": {
     "base_uri": "https://localhost:8080/"
    },
    "id": "ZYgE6vCjaExH",
    "outputId": "34a87c3f-0944-4e33-8858-7c1c1a7746da"
   },
   "outputs": [],
   "source": [
    "t3 = [i*i for i in range(5, 10)]\n"
   ]
  },
  {
   "cell_type": "markdown",
   "metadata": {
    "id": "3_rpRjYuaGpm"
   },
   "source": [
    "4. Quel est le tableau construit par les instructions suivantes ?"
   ]
  },
  {
   "cell_type": "code",
   "execution_count": null,
   "metadata": {
    "id": "KAjpddDPaI0P"
   },
   "outputs": [],
   "source": [
    "t4 = [0]*50\n",
    "for i in range(len(t4)):\n",
    "    t4[i] = i % 2\n"
   ]
  },
  {
   "cell_type": "markdown",
   "metadata": {
    "id": "nENhGvpJaKxL"
   },
   "source": [
    "## Exercice 5.3\n",
    "\n",
    "Complétez la fonction suivante pour qu'elle échange les valeurs d'index `i` et `j` du tableau `tab`.\n",
    "\n",
    "Exemple\n",
    "```python\n",
    "T = [3, 8, 12, 9, 56, 14, 22, 7, 13, 41]\n",
    "echange(T, 2, 4)\n",
    "T\n",
    "[3, 8, 56, 9, 12, 14, 22, 7, 13, 41]\n",
    "```"
   ]
  },
  {
   "cell_type": "code",
   "execution_count": null,
   "metadata": {
    "id": "OvnRe4INaO5F"
   },
   "outputs": [],
   "source": [
    "def echange(tab,i,j):\n",
    "    pass\n",
    "    return tab\n",
    "\n",
    "# Tests\n",
    "T = [3, 8, 12, 9, 56, 14, 22, 7, 13, 41]\n",
    "echange(T, 2, 4)\n",
    "T"
   ]
  },
  {
   "cell_type": "markdown",
   "metadata": {},
   "source": [
    "<details>\n",
    "<summary style=\"border:1pt solid slateblue; border-radius:5pt; width:15%; color:slateblue; padding:3px; background-color: lightcyan\"> Solution </summary>  \n",
    "    \n",
    "<div style=\"border:1pt solid slateblue; border-radius:5pt; color:slateblue; padding:3px; background-color: lightcyan\"> \n",
    "    \n",
    "```python\n",
    "def echange(tab,i,j):\n",
    "    temp=tab[j]\n",
    "    tab[j]=tab[i]\n",
    "    tab[i]=temp\n",
    "    return tab\n",
    "```\n",
    "</div>\n",
    "</details>"
   ]
  },
  {
   "cell_type": "markdown",
   "metadata": {
    "id": "NJqwHXpnaRK8"
   },
   "source": [
    "## Exercice 5.4\n",
    "\n",
    "On considère le tableau `t` suivant."
   ]
  },
  {
   "cell_type": "code",
   "execution_count": null,
   "metadata": {
    "id": "16ZtSieqaVHn"
   },
   "outputs": [],
   "source": [
    "t = [0, 2, 4, 6, 8, 10]"
   ]
  },
  {
   "cell_type": "markdown",
   "metadata": {
    "id": "xTdaaRBVaW1r"
   },
   "source": [
    "1. Ecrivez un programme qui parcourt *par indice* le tableau et affiche tous ses éléments."
   ]
  },
  {
   "cell_type": "code",
   "execution_count": null,
   "metadata": {
    "id": "VoxVbnnBaZTa"
   },
   "outputs": [],
   "source": []
  },
  {
   "cell_type": "markdown",
   "metadata": {
    "id": "-DDtkg8cabsq"
   },
   "source": [
    "2. Ecrivez un programme qui parcourt *par valeur* le tableau et affiche ses éléments."
   ]
  },
  {
   "cell_type": "code",
   "execution_count": null,
   "metadata": {
    "id": "nITvUuzzacld"
   },
   "outputs": [],
   "source": []
  },
  {
   "cell_type": "markdown",
   "metadata": {
    "id": "2_3waONhajCB"
   },
   "source": [
    "3. Ecrire un programme qui calcule la somme des élèments du tableau."
   ]
  },
  {
   "cell_type": "code",
   "execution_count": null,
   "metadata": {
    "id": "E1_GcuUNTtKQ"
   },
   "outputs": [],
   "source": []
  },
  {
   "cell_type": "markdown",
   "metadata": {},
   "source": [
    "<details>\n",
    "<summary style=\"border:1pt solid slateblue; border-radius:5pt; width:15%; color:slateblue; padding:3px; background-color: lightcyan\"> Solution </summary>  \n",
    "    \n",
    "<div style=\"border:1pt solid slateblue; border-radius:5pt; color:slateblue; padding:3px; background-color: lightcyan\"> \n",
    "\n",
    "1. Parcours par indice\n",
    " ```python\n",
    "for indice in range(len(t)):\n",
    "    print(t[indice])\n",
    "```\n",
    "    \n",
    "2. Parcours par valeur\n",
    " ```python\n",
    "for elt in t:\n",
    "    print(elt)\n",
    "```  \n",
    "3. Calcul de la somme des termes d'une suite\n",
    " ```python\n",
    "somme=0\n",
    "for valeur in t:\n",
    "    somme=somme+valeur  # ou somme+=valeur\n",
    "```\n",
    "</div>\n",
    "    \n",
    "</details>"
   ]
  },
  {
   "cell_type": "markdown",
   "metadata": {
    "id": "7RX5w9UHac4X"
   },
   "source": [
    "## Exercice 5.5 :\n",
    "\n",
    "On considère le tableau défini par compréhension suivant."
   ]
  },
  {
   "cell_type": "code",
   "execution_count": null,
   "metadata": {
    "id": "CqcaYAdwagDW"
   },
   "outputs": [],
   "source": [
    "T = [i for i in range(15)]"
   ]
  },
  {
   "cell_type": "markdown",
   "metadata": {
    "id": "SM5xCCgVasZe"
   },
   "source": [
    "1. Que contient le tableau `T` ?"
   ]
  },
  {
   "cell_type": "markdown",
   "metadata": {},
   "source": []
  },
  {
   "cell_type": "markdown",
   "metadata": {
    "id": "SM5xCCgVasZe"
   },
   "source": [
    "2. Ecrivez un programme qui parcourt le tableau `T` et qui affiche uniquement les multiples de 2 qu'il contient."
   ]
  },
  {
   "cell_type": "code",
   "execution_count": null,
   "metadata": {
    "id": "XdZMq_67av4M"
   },
   "outputs": [],
   "source": []
  },
  {
   "cell_type": "markdown",
   "metadata": {},
   "source": [
    "<details>\n",
    "<summary style=\"border:1pt solid slateblue; border-radius:5pt; width:15%; color:slateblue; padding:3px; background-color: lightcyan\"> Solution </summary>  \n",
    "    \n",
    "<div style=\"border:1pt solid slateblue; border-radius:5pt; color:slateblue; padding:3px; background-color: lightcyan\"> \n",
    "\n",
    "```python\n",
    "for valeur in T:\n",
    "    if valeur %2==0:   #on teste si valeur est pair que montrant que le reste de la division euclidienne par 2 vaut 0\n",
    "       print(valeur)\n",
    "```\n",
    "</div>\n",
    "    \n",
    "</details>"
   ]
  },
  {
   "cell_type": "markdown",
   "metadata": {
    "id": "6BIQkWqzawbI"
   },
   "source": [
    "## Exercice 5.6 :\n",
    "\n",
    "On rappelle que l'on peut construire un tableau en utilisant une boucle `for` (en ayant au préalable créé un tableau de la bonne taille avec une valeur arbitraire) ou en le définissant par compréhension.\n",
    "\n",
    "Utilisez les deux méthodes pour construire les tableaux demandés.\n",
    "\n",
    "1. Un tableau qui contient tous les entiers compris entre 0 et 1000.\n",
    "2. Un tableau qui contient tous les entiers compris entre 5 et 15.\n",
    "3. Un tableau qui contient tous les nombres pairs compris entre 0 et 50.\n",
    "4. Un tableau qui contient les carrés de tous les entiers compris entre 1 et 100 (c'est-à-dire 1, 4, 9, 16, etc.)"
   ]
  },
  {
   "cell_type": "code",
   "execution_count": null,
   "metadata": {
    "id": "RhSMhmwea0sw"
   },
   "outputs": [],
   "source": [
    "# Q1 avec méthode 1"
   ]
  },
  {
   "cell_type": "code",
   "execution_count": null,
   "metadata": {},
   "outputs": [],
   "source": [
    "# Q1 avec méthode 2"
   ]
  },
  {
   "cell_type": "code",
   "execution_count": null,
   "metadata": {},
   "outputs": [],
   "source": [
    "# Q2 avec méthode 1"
   ]
  },
  {
   "cell_type": "code",
   "execution_count": null,
   "metadata": {},
   "outputs": [],
   "source": [
    "# Q2 avec méthode 2"
   ]
  },
  {
   "cell_type": "code",
   "execution_count": null,
   "metadata": {},
   "outputs": [],
   "source": [
    "# Q3 avec méthode 1"
   ]
  },
  {
   "cell_type": "code",
   "execution_count": null,
   "metadata": {},
   "outputs": [],
   "source": [
    "# Q3 avec méthode 2"
   ]
  },
  {
   "cell_type": "code",
   "execution_count": null,
   "metadata": {},
   "outputs": [],
   "source": [
    "# Q4 avec méthode 1"
   ]
  },
  {
   "cell_type": "code",
   "execution_count": null,
   "metadata": {},
   "outputs": [],
   "source": [
    "# Q4 avec méthode 2"
   ]
  },
  {
   "cell_type": "markdown",
   "metadata": {},
   "source": [
    "<details>\n",
    "<summary style=\"border:1pt solid slateblue; border-radius:5pt; width:15%; color:slateblue; padding:3px; background-color: lightcyan\"> Solution </summary>  \n",
    "    \n",
    "<div style=\"border:1pt solid slateblue; border-radius:5pt; color:slateblue; padding:3px; background-color: lightcyan\"> \n",
    "    \n",
    "```python\n",
    "#Q1 Méthode 1\n",
    "tab1=[]  #initialisation\n",
    "for k in range(0,1001):\n",
    "    tab1.append(k)\n",
    "```\n",
    "\n",
    "```python\n",
    "#Q1 Méthode 2 par compréhension\n",
    "tab1=[k for k in range(0,1001)]\n",
    "```\n",
    "    \n",
    "```python\n",
    "#Q2 Méthode 1\n",
    "tab2=[]  #initialisation\n",
    "for k in range(5,16):\n",
    "    tab2.append(k)\n",
    "```\n",
    "\n",
    "```python\n",
    "#Q2 Méthode 2 par compréhension\n",
    "tab2=[k for k in range(5,16)]\n",
    "```\n",
    "    \n",
    "```python\n",
    "#Q3 Méthode 1\n",
    "tab3=[]  #initialisation\n",
    "for k in range(0,51,2):\n",
    "    tab3.append(k)\n",
    "```\n",
    "\n",
    "```python\n",
    "#Q3 Méthode 2 par compréhension\n",
    "tab3=[k for k in range(0,51,2)]\n",
    "```\n",
    "ou \n",
    "```python\n",
    "#Q3 Méthode 2 par compréhension\n",
    "tab3=[k for k in range(51) if k%2==0]\n",
    "```\n",
    "    \n",
    "```python\n",
    "#Q4 Méthode 1\n",
    "tab4=[]  #initialisation\n",
    "for k in range(1,101):\n",
    "    tab4.append(k**2)\n",
    "```\n",
    "\n",
    "```python\n",
    "#Q4 Méthode 2 par compréhension\n",
    "tab4=[k**2 for k in range(1,101)]\n",
    "```\n",
    "    \n",
    "\n",
    "</div>\n",
    "</details>"
   ]
  },
  {
   "cell_type": "markdown",
   "metadata": {},
   "source": [
    "## Exercice 5.7 : Moyenne annuelle  \n",
    "Compléter la fonction <code>moyenne</code> qui prend en argument un tableau de notes et qui renvoie la moyenne de ce tableau.\n",
    "\n",
    "```python\n",
    "notes=[12,10,15,18,8]\n",
    "moyenne(notes)\n",
    ">>>12.6\n",
    "```\n"
   ]
  },
  {
   "cell_type": "code",
   "execution_count": null,
   "metadata": {},
   "outputs": [],
   "source": [
    "def moyenne(notes):\n",
    "    ...\n",
    "    ...\n",
    "    ..."
   ]
  },
  {
   "cell_type": "markdown",
   "metadata": {},
   "source": [
    "<details>\n",
    "<summary style=\"border:1pt solid slateblue; border-radius:5pt; width:15%; color:slateblue; padding:3px; background-color: lightcyan\"> Solution </summary>  \n",
    "    \n",
    "<div style=\"border:1pt solid slateblue; border-radius:5pt; color:slateblue; padding:3px; background-color: lightcyan\"> \n",
    "    \n",
    "    \n",
    "```python\n",
    "def moyenne(notes):\n",
    "    somme=0\n",
    "    nb_notes=len(notes)\n",
    "    for note in notes:\n",
    "        somme+=note\n",
    "    moy=somme/nb_notes\n",
    "    return moy\n",
    "```\n",
    "</div>\n",
    "</details>"
   ]
  },
  {
   "cell_type": "markdown",
   "metadata": {
    "id": "hQUDBk45a2a3"
   },
   "source": [
    "\n",
    "## Exercice 5.8 : Moyenne coefficientée\n",
    "\n",
    "Voici les premières notes de l'année obtenues par un élève en NSI :\n",
    "\n",
    "| **Note** | **coefficient** |\n",
    "| ----------- | ------------ |\n",
    "| 15 | 1 |\n",
    "| 13 | 2 |\n",
    "| 8 | 1 |\n",
    "| 18 | 1 |\n",
    "\n",
    "\n",
    "1. Ces notes et coefficients sont d'abord stockées dans deux tableaux comme ci-dessous.  \n",
    "\n",
    "a. Quelle instruction permet d'accéder la troisième note ?  \n",
    "b. Quelle instruction permet d'accéder au coefficient de la deuxième note ?"
   ]
  },
  {
   "cell_type": "code",
   "execution_count": null,
   "metadata": {
    "colab": {
     "base_uri": "https://localhost:8080/"
    },
    "id": "H4uVTHHha61r",
    "outputId": "915df5bb-e7b2-44bc-a1ad-2e8cfdedd4d4"
   },
   "outputs": [],
   "source": [
    "notes = [15, 13, 8, 18]\n",
    "coeff = [1, 2, 1, 1]"
   ]
  },
  {
   "cell_type": "markdown",
   "metadata": {},
   "source": [
    "Réponse :\n"
   ]
  },
  {
   "cell_type": "markdown",
   "metadata": {},
   "source": [
    "2. Ecrire une fonction <code>moyenneCoeff(notes,coeffs)</code> qui prend en paramètres deux tableaux et qui renvoie la moyenne coefficientée correspondante."
   ]
  },
  {
   "cell_type": "code",
   "execution_count": null,
   "metadata": {},
   "outputs": [],
   "source": [
    "def moyenneCoeff(notes,coeffs):\n",
    "    sommenotes=0\n",
    "    sommecoeffs=0\n",
    "    for i in range(...):\n",
    "        ..."
   ]
  },
  {
   "cell_type": "markdown",
   "metadata": {},
   "source": [
    "<details>\n",
    "<summary style=\"border:1pt solid slateblue; border-radius:5pt; width:15%; color:slateblue; padding:3px; background-color: lightcyan\"> Solution </summary>  \n",
    "    \n",
    "<div style=\"border:1pt solid slateblue; border-radius:5pt; color:slateblue; padding:3px; background-color: lightcyan\"> \n",
    "    \n",
    "    \n",
    "```python\n",
    "def moyenne(notes,coeffs):\n",
    "    sommenotes=0\n",
    "    sommecoeffs=0\n",
    "    nb2notes=len(notes)\n",
    "    for indice in range(nb2notes):\n",
    "        sommenotes+=notes[indice]\n",
    "        sommecoeffs+=coeffs[indice]\n",
    "    moy=sommenotes/sommecoeffs\n",
    "    return moy\n",
    "```\n",
    "</div>\n",
    "</details>"
   ]
  },
  {
   "cell_type": "markdown",
   "metadata": {
    "id": "Bz_OHJtYa8_c"
   },
   "source": [
    "3. Ces notes et coefficient sont maintenant stockées dans un tableau de tableaux.  \n",
    "\n",
    "Quelle instruction permet d'accéder à la troisième paire note-coefficient ?  \n",
    "Quelle instruction permet d'accéder la troisième note ?  \n",
    "Quelle instruction permet d'accéder au coefficient de la deuxième note ?"
   ]
  },
  {
   "cell_type": "code",
   "execution_count": null,
   "metadata": {
    "colab": {
     "base_uri": "https://localhost:8080/"
    },
    "id": "yn6YnMyZbAdc",
    "outputId": "30ac64ba-8a01-4fe4-a8ab-07539351998c"
   },
   "outputs": [],
   "source": [
    "notes_coeff = [[15, 1], [13, 2], [8, 1], [18, 1]]"
   ]
  },
  {
   "cell_type": "markdown",
   "metadata": {},
   "source": [
    "Réponse : \n"
   ]
  },
  {
   "cell_type": "markdown",
   "metadata": {},
   "source": [
    "4. Ecrire une fonction <code>moyenneCoeff(tab)</code> qui prend en paramètre un tableau et qui renvoie la moyenne coefficientée correspondante."
   ]
  },
  {
   "cell_type": "code",
   "execution_count": null,
   "metadata": {},
   "outputs": [],
   "source": []
  },
  {
   "cell_type": "markdown",
   "metadata": {},
   "source": [
    "<details>\n",
    "<summary style=\"border:1pt solid slateblue; border-radius:5pt; width:15%; color:slateblue; padding:3px; background-color: lightcyan\"> Solution </summary>  \n",
    "    \n",
    "<div style=\"border:1pt solid slateblue; border-radius:5pt; color:slateblue; padding:3px; background-color: lightcyan\"> \n",
    "    \n",
    "    \n",
    "```python\n",
    "def moyenneCoeff(tab):\n",
    "    sommenotes=0\n",
    "    sommecoeffs=0\n",
    "    nb2notes=len(tab)\n",
    "    for indice in range(nb2notes):\n",
    "        sommenotes+=tab[indice][0]*tab[indice][1]   #les notes ont toujours pour position 0 dans le tableau extrait et les coeffs ont pour position1\n",
    "        sommecoeffs+=tab[indice][1]\n",
    "    moy=sommenotes/sommecoeffs\n",
    "    return moy\n",
    "```\n",
    "</div>\n",
    "</details>"
   ]
  },
  {
   "cell_type": "markdown",
   "metadata": {
    "id": "XXBO4XJpbCfH"
   },
   "source": [
    "## Exercice 5.9 : \n",
    "\n",
    "Répondez aux questions suivantes **puis** exécutez la cellule pour vérifier.\n",
    "\n",
    "1. Quel est le tableau construit par compréhension de la façon suivante ?"
   ]
  },
  {
   "cell_type": "code",
   "execution_count": null,
   "metadata": {
    "colab": {
     "base_uri": "https://localhost:8080/"
    },
    "id": "1ZAc4WX3bFzX",
    "outputId": "7ca85ec8-fde3-4e4f-926f-a7b25518b75e"
   },
   "outputs": [],
   "source": [
    "tab = [[j**2 for j in range(5)] for i in range(3)]\n",
    "tab"
   ]
  },
  {
   "cell_type": "markdown",
   "metadata": {
    "id": "t2HHnw_qbHy4"
   },
   "source": [
    "2. Quel est le tableau construit par compréhension de la façon suivante ?"
   ]
  },
  {
   "cell_type": "code",
   "execution_count": null,
   "metadata": {
    "colab": {
     "base_uri": "https://localhost:8080/"
    },
    "id": "MC_9PbrJbKKh",
    "outputId": "0e695a7e-69b3-40fd-da96-5d646abec01d"
   },
   "outputs": [],
   "source": [
    "tab = [[2*i + j for j in range(2)] for i in range(4)]\n",
    "tab"
   ]
  },
  {
   "cell_type": "markdown",
   "metadata": {
    "id": "D8qyNj7HbKbI"
   },
   "source": [
    "## Exercice 5.10 : \n",
    "\n",
    "On a mémorise dans le tableau `grille` l'état d'un jeu de morpion. Voici le contenu du jeu après deux tours."
   ]
  },
  {
   "cell_type": "code",
   "execution_count": null,
   "metadata": {
    "id": "y5PHzBHfbQuH"
   },
   "outputs": [],
   "source": [
    "grille = [['X', '.', 'O'],\n",
    "           ['.', '.', 'O'],\n",
    "           ['.', '.', 'X']]"
   ]
  },
  {
   "cell_type": "markdown",
   "metadata": {
    "id": "C8nfpCm6bVQ7"
   },
   "source": [
    "1. C'est au joueur &laquo; O &raquo; de jouer et il compte mettre un `'O'` au centre de la grille. Quelle instruction faut-il écrire ? Vérifiez."
   ]
  },
  {
   "cell_type": "code",
   "execution_count": null,
   "metadata": {
    "colab": {
     "base_uri": "https://localhost:8080/"
    },
    "id": "2nrHFGh9bWk_",
    "outputId": "a03be70b-793f-48a9-b260-6f2edb565ec6"
   },
   "outputs": [],
   "source": []
  },
  {
   "cell_type": "markdown",
   "metadata": {},
   "source": [
    "<details>\n",
    "<summary style=\"border:1pt solid slateblue; border-radius:5pt; width:15%; color:slateblue; padding:3px; background-color: lightcyan\"> Solution </summary>  \n",
    "    \n",
    "<div style=\"border:1pt solid slateblue; border-radius:5pt; color:slateblue; padding:3px; background-color: lightcyan\"> \n",
    "    \n",
    "    \n",
    "```python\n",
    "grille[1][1]\n",
    "```\n",
    "</div>\n",
    "</details>"
   ]
  },
  {
   "cell_type": "markdown",
   "metadata": {
    "id": "5dHR96xebY9C"
   },
   "source": [
    "2. Vous avez du constater qu'en affichant le tableau, celui ne s'affiche pas comme on souhaiterait (comme la grille du jeu). Pour pallier à ce souci, il suffit de parcourir le tableau ligne par ligne et afficher cette ligne. Ecrivez le programme correspondant."
   ]
  },
  {
   "cell_type": "code",
   "execution_count": null,
   "metadata": {
    "colab": {
     "base_uri": "https://localhost:8080/"
    },
    "id": "cHp_2fECbbz1",
    "outputId": "850212ab-897e-4176-b5bb-0dd21802e89d"
   },
   "outputs": [],
   "source": []
  },
  {
   "cell_type": "markdown",
   "metadata": {},
   "source": [
    "<details>\n",
    "<summary style=\"border:1pt solid slateblue; border-radius:5pt; width:15%; color:slateblue; padding:3px; background-color: lightcyan\"> Solution </summary>  \n",
    "    \n",
    "<div style=\"border:1pt solid slateblue; border-radius:5pt; color:slateblue; padding:3px; background-color: lightcyan\"> \n",
    "    \n",
    "    \n",
    "```python\n",
    "for ligne in grille:\n",
    "    print(ligne)\n",
    "```\n",
    "</div>\n",
    "</details>"
   ]
  },
  {
   "cell_type": "markdown",
   "metadata": {},
   "source": [
    "3. **Approfondissement**  \n",
    "Pour ceux qui le désire, écrire un programme permettant de joueur au morpion.\n"
   ]
  },
  {
   "cell_type": "code",
   "execution_count": null,
   "metadata": {},
   "outputs": [],
   "source": []
  },
  {
   "cell_type": "markdown",
   "metadata": {
    "id": "2NcQB3ewbd5_"
   },
   "source": [
    "## Parcours tableaux à plusieurs dimensions"
   ]
  },
  {
   "cell_type": "markdown",
   "metadata": {
    "id": "Nw5_aMr2bhXc"
   },
   "source": [
    "## Exercice 5.11 :\n",
    "\n",
    "Ecrire une fonction <code>ajoutNumero(rep,nom,numero)</code> qui prend pour paramètre un répertoire, un nomn et un numero de téléphone et qui permet d'enregistrer un nouveau nom ainsi que son numéro dans le répertoire"
   ]
  },
  {
   "cell_type": "code",
   "execution_count": null,
   "metadata": {
    "id": "ksB9SisEblXJ"
   },
   "outputs": [],
   "source": [
    "repertoire = [['Michel', '0210101010'], ['Marjorie', '0211111111'], ['Perrine', '0212121212']]\n",
    "\n"
   ]
  },
  {
   "cell_type": "markdown",
   "metadata": {
    "id": "cfCnLbdwb1ra"
   },
   "source": [
    "### Exercice 5.11 : \n",
    "\n",
    "Ecrivez une fonction `somme(t)` qui renvoie la somme des éléments du tableau d'entiers `t`.\n",
    "\n",
    "Exemple :\n",
    "```python\n",
    "t=[1,2,3,5,7,10]\n",
    "somme(t)\n",
    ">>> 28\n",
    "```"
   ]
  },
  {
   "cell_type": "code",
   "execution_count": null,
   "metadata": {
    "id": "3H9xTmIob6P8"
   },
   "outputs": [],
   "source": [
    "\n"
   ]
  },
  {
   "cell_type": "markdown",
   "metadata": {},
   "source": [
    "<details>\n",
    "<summary style=\"border:1pt solid slateblue; border-radius:5pt; width:15%; color:slateblue; padding:3px; background-color: lightcyan\"> Solution </summary>  \n",
    "    \n",
    "<div style=\"border:1pt solid slateblue; border-radius:5pt; color:slateblue; padding:3px; background-color: lightcyan\"> \n",
    "    \n",
    "    \n",
    "```python\n",
    "def ajoutNumero(rep,nom,numero):\n",
    "    rep.append([nom,numero]]\n",
    "    return rep\n",
    "```\n",
    "</div>\n",
    "</details>"
   ]
  },
  {
   "cell_type": "markdown",
   "metadata": {},
   "source": [
    "## Exercice 5.12 : cadavre exquis\n",
    "Le [cadavre exquis](https://fr.wikipedia.org/wiki/Cadavre_exquis) est un « jeu qui consiste à faire composer une phrase, ou un dessin, par plusieurs personnes sans qu'aucune d'elles ne puisse tenir compte de la collaboration ou des collaborations précédentes.»\n",
    "\n",
    "*Remarque :* la méthode `choice` du module `random` permet de tirer au sort un élément dans un itérable non vide (et donc dans un tableau non vide). Vous pouvez exécuter plusieurs fois la cellule de code ci-dessous pour tester :"
   ]
  },
  {
   "cell_type": "code",
   "execution_count": null,
   "metadata": {},
   "outputs": [],
   "source": [
    "from random import choice\n",
    "\n",
    "tab = ['chat', 'chien', 'cheval', 'vache', 'cochon']\n",
    "animal = choice(tab)\n",
    "animal"
   ]
  },
  {
   "cell_type": "markdown",
   "metadata": {},
   "source": [
    "Compléter la fonction `cadavre_exquis` ci-dessous qui prend en argument :\n",
    "- un tableau de noms non vide,\n",
    "- un tableau de verbes non vide,\n",
    "- un tableau de compléments non vide,  \n",
    "\n",
    "et qui renvoie une phrase aléatoire construite selon le principe du cadavre exquis : en piochant un nom dans le tableau de noms, puis en piochant un verbe dans le tableau de verbes et enfin en piochant un complément dans le tableau de compléments."
   ]
  },
  {
   "cell_type": "code",
   "execution_count": null,
   "metadata": {},
   "outputs": [],
   "source": [
    "from random import choice\n",
    "\n",
    "def cadavre_exquis(noms, verbes, complements):\n",
    "    nom = ...\n",
    "    verbe = ...\n",
    "    complement = ...\n",
    "    phrase = ...\n",
    "    return ..."
   ]
  },
  {
   "cell_type": "markdown",
   "metadata": {},
   "source": [
    "<details>\n",
    "<summary style=\"border:1pt solid slateblue; border-radius:5pt; width:15%; color:slateblue; padding:3px; background-color: lightcyan\"> Solution </summary>  \n",
    "    \n",
    "<div style=\"border:1pt solid slateblue; border-radius:5pt; color:slateblue; padding:3px; background-color: lightcyan\"> \n",
    "    \n",
    "    \n",
    "```python\n",
    "from random import choice\n",
    "\n",
    "def cadavre_exquis(noms, verbes, complements):\n",
    "    nom = noms\n",
    "    verbe = verbes\n",
    "    complement = complements\n",
    "    phrase = choice(nom)+choice(verbe)+choice(complement)\n",
    "    return phrase\n",
    "```\n",
    "</div>\n",
    "</details>"
   ]
  },
  {
   "cell_type": "markdown",
   "metadata": {},
   "source": [
    "*Question 2 :*  \n",
    "Tester votre fonction en complétant l'exemple ci-dessous."
   ]
  },
  {
   "cell_type": "code",
   "execution_count": null,
   "metadata": {},
   "outputs": [],
   "source": [
    "n = ['Le chasseur ', 'La présidente ', 'Le lapin ', 'Pikachu ', 'La comète ', 'La licorne ']\n",
    "v = ['mange ', 'cherche ', 'entretient ', 'admire ', 'vénère ', 'admoneste ']\n",
    "c = ['la saucisse.', 'la forêt.', 'la casquette.', 'la bicyclette.', 'le micro-processeur.']\n",
    "\n",
    "cadavre_exquis(n, c,v)"
   ]
  },
  {
   "cell_type": "markdown",
   "metadata": {
    "id": "w0HJotVrIcUc"
   },
   "source": [
    "## Exercice 5.13 : Travail sur les listes en compréhension   \n",
    "**Créez une liste `Liste1` de 15 entiers aléatoires compris entre 0 et 20 à l'aide d'une boucle.**  \n",
    "*Aide :* Nous allons utiliser le module random qui génère des nombres pseudo-alétoires.\n",
    "\n",
    "Commencez par importer la fonction `randint` du module avec l'instruction :  \n",
    "`from random import randint` à placer en début de cellule.  \n",
    "\n",
    "L'instruction `randint(a,b)`  retournera un entier alétoire compris entre a et b (bornes comprises)\n",
    "\n",
    "[Vers la documentation du module](https://docs.python.org/fr/3/library/random.html)\n"
   ]
  },
  {
   "cell_type": "code",
   "execution_count": null,
   "metadata": {
    "colab": {
     "base_uri": "https://localhost:8080/"
    },
    "id": "ZQTH2OXvK-pZ",
    "outputId": "9827c394-9f39-4d54-e2cc-9217601cb345"
   },
   "outputs": [],
   "source": [
    "#un exemple : \n",
    "from random import randint\n",
    "Liste1 = []\n",
    "\n",
    "for k in range(15):\n",
    "    alea=randint(0,20)\n",
    "    Liste1.append(alea)\n",
    "print(Liste1)"
   ]
  },
  {
   "cell_type": "markdown",
   "metadata": {
    "id": "Jc-WzIpOK9dU"
   },
   "source": [
    "**Créez une liste `Liste2` de 30 entiers aléatoires compris entre 0 et 20 à l'aide d'une compréhension de liste.** "
   ]
  },
  {
   "cell_type": "code",
   "execution_count": null,
   "metadata": {
    "colab": {
     "base_uri": "https://localhost:8080/"
    },
    "id": "bjf8Pat-LF7I",
    "outputId": "f7673a92-5351-4447-fbb3-cf388ea685c6"
   },
   "outputs": [],
   "source": [
    "Liste2 = # Votre code ici\n",
    "print(Liste2)"
   ]
  },
  {
   "cell_type": "markdown",
   "metadata": {},
   "source": [
    "<details>\n",
    "<summary style=\"border:1pt solid slateblue; border-radius:5pt; width:15%; color:slateblue; padding:3px; background-color: lightcyan\"> Solution </summary>  \n",
    "    \n",
    "<div style=\"border:1pt solid slateblue; border-radius:5pt; color:slateblue; padding:3px; background-color: lightcyan\"> \n",
    "    \n",
    "    \n",
    "```python\n",
    "from random import randint\n",
    "liste2=[randint(0,20) for k in range(30)] \n",
    "```\n",
    "</div>\n",
    "</details>"
   ]
  },
  {
   "cell_type": "markdown",
   "metadata": {
    "id": "pOPm6VD4LCc_"
   },
   "source": [
    "**Créez une fonction `moyenne` qui prend en paramètre une liste de nombres et qui renvoie la moyenne de cette liste.**  \n",
    "Testez votre fonction à l'aide des `assert` de la cellule suivante."
   ]
  },
  {
   "cell_type": "code",
   "execution_count": null,
   "metadata": {
    "id": "YE9RZH_iLM_2"
   },
   "outputs": [],
   "source": [
    "def moyenne(liste):\n",
    "    pass\n",
    "  return moyenne\n",
    "\n",
    "    "
   ]
  },
  {
   "cell_type": "markdown",
   "metadata": {},
   "source": [
    "<details>\n",
    "<summary style=\"border:1pt solid slateblue; border-radius:5pt; width:15%; color:slateblue; padding:3px; background-color: lightcyan\"> Solution </summary>  \n",
    "    \n",
    "<div style=\"border:1pt solid slateblue; border-radius:5pt; color:slateblue; padding:3px; background-color: lightcyan\"> \n",
    "    \n",
    "    \n",
    "```python\n",
    "def moyenne(liste):\n",
    "    somme=0\n",
    "    for elt in liste:\n",
    "        somme+=elt\n",
    "    moy=somme/len(liste)\n",
    "    return moy\n",
    "```\n",
    "</div>\n",
    "</details>"
   ]
  },
  {
   "cell_type": "code",
   "execution_count": null,
   "metadata": {
    "id": "dWAZrzxpLN1N"
   },
   "outputs": [],
   "source": [
    "# Méthode de TEST\n",
    "\n",
    "assert moyenne(Liste1) == sum(Liste1)/len(Liste1)\n",
    "assert moyenne(Liste2) == sum(Liste2)/len(Liste2)"
   ]
  },
  {
   "cell_type": "markdown",
   "metadata": {
    "id": "Ja-IyOFpLPnp"
   },
   "source": [
    "Un méchant professeur veut baisser le notes de ses élèves de 10 %  \n",
    "**Créez une liste `Liste3` obtenue en diminuant de 10 % les nombres de la liste `Liste1` avec une compréhension de liste**  \n",
    "Testez votre fonction à l'aide des `assert` de la cellule suivante."
   ]
  },
  {
   "cell_type": "code",
   "execution_count": null,
   "metadata": {
    "colab": {
     "base_uri": "https://localhost:8080/"
    },
    "id": "3wPTEbMBLR64",
    "outputId": "dacc74b6-681d-482f-9c2b-6dc7f4984962"
   },
   "outputs": [],
   "source": [
    "Liste3 = # Votre code ici\n",
    "Liste3"
   ]
  },
  {
   "cell_type": "markdown",
   "metadata": {},
   "source": [
    "<details>\n",
    "<summary style=\"border:1pt solid slateblue; border-radius:5pt; width:15%; color:slateblue; padding:3px; background-color: lightcyan\"> Solution </summary>  \n",
    "    \n",
    "<div style=\"border:1pt solid slateblue; border-radius:5pt; color:slateblue; padding:3px; background-color: lightcyan\"> \n",
    "    \n",
    "    \n",
    "```python\n",
    "from random import randint\n",
    "Liste3=[elt*0.9 for elt in Liste1] \n",
    "```\n",
    "</div>\n",
    "</details>"
   ]
  },
  {
   "cell_type": "code",
   "execution_count": null,
   "metadata": {
    "id": "-Lb0zbOoLUZ2"
   },
   "outputs": [],
   "source": [
    "for index in range(len(Liste1)):\n",
    "    assert Liste3[index] == Liste1[index]*0.9"
   ]
  },
  {
   "cell_type": "markdown",
   "metadata": {
    "id": "-Ys14vTcLjwq"
   },
   "source": [
    "Le même professeur cherche à écrire des appréciation automatiques en fonction de la note.  \n",
    "Il souhaite voir écrit \"Pas terrible\" si la note est inférieure ou égale à 10 et \"Pas mal\" sinon.  \n",
    "**Créez une liste `Appreciations` à partir de la liste `Liste1` à l'aide d'une comprehension de liste**  \n",
    "*Aide* : `[<expression> if <condition> else <autre_expression> for <element> in <iterable>]`"
   ]
  },
  {
   "cell_type": "code",
   "execution_count": null,
   "metadata": {
    "id": "-4pKCRs9LqDJ"
   },
   "outputs": [],
   "source": [
    "Appreciations = # Votre code ici\n"
   ]
  },
  {
   "cell_type": "markdown",
   "metadata": {},
   "source": [
    "<details>\n",
    "<summary style=\"border:1pt solid slateblue; border-radius:5pt; width:15%; color:slateblue; padding:3px; background-color: lightcyan\"> Solution </summary>  \n",
    "    \n",
    "<div style=\"border:1pt solid slateblue; border-radius:5pt; color:slateblue; padding:3px; background-color: lightcyan\"> \n",
    "    \n",
    "    \n",
    "```python\n",
    "Appreciations=['Pas terrible' if elt<10 else 'Pas mal' for elt in Liste1 ]\n",
    "```\n",
    "</div>\n",
    "</details>"
   ]
  },
  {
   "cell_type": "code",
   "execution_count": null,
   "metadata": {
    "colab": {
     "base_uri": "https://localhost:8080/"
    },
    "id": "KbbNDxjgLuE4",
    "outputId": "d2179f88-d495-4ff5-e363-fbb6b7dc1d0c"
   },
   "outputs": [],
   "source": [
    "print(Liste1)\n",
    "print(Appreciations)"
   ]
  },
  {
   "cell_type": "markdown",
   "metadata": {
    "id": "L0Zy2SPVL234"
   },
   "source": [
    "Le professeur souhaite maintenant créer une fonction `app2` qui prend en paramètre un nombre et qui renvoie un tuple constitué de ce nombre et d'une appréciation.\n",
    "L'appréciation sera :\n",
    "- \"Bon travail\" si la note est supérieure ou égale à 15;\n",
    "- \"Fais encore des efforts\" si la note est entre 10 et 15 (non compris);\n",
    "- \"Au travail !\" si la note est inférieure ou égale à 10.\n",
    "\n",
    "**Ecrivez la fonction ci-dessous**"
   ]
  },
  {
   "cell_type": "code",
   "execution_count": null,
   "metadata": {
    "id": "EDYPtceJL34R"
   },
   "outputs": [],
   "source": [
    "def app2(nombre):\n",
    "    pass \n",
    "    # Votre code ici"
   ]
  },
  {
   "cell_type": "markdown",
   "metadata": {},
   "source": [
    "<details>\n",
    "<summary style=\"border:1pt solid slateblue; border-radius:5pt; width:15%; color:slateblue; padding:3px; background-color: lightcyan\"> Solution </summary>  \n",
    "    \n",
    "<div style=\"border:1pt solid slateblue; border-radius:5pt; color:slateblue; padding:3px; background-color: lightcyan\"> \n",
    "    \n",
    "    \n",
    "```python\n",
    "def app2(nombre):\n",
    "    if nombre<=10:\n",
    "        return (nombre,'Au travail !'\n",
    "    elif nombre >=15:\n",
    "        return (nombre,'Bon travail')\n",
    "    else:\n",
    "        return (nombre,'Fais encore des efforts')\n",
    "```\n",
    "</div>\n",
    "</details>"
   ]
  },
  {
   "cell_type": "markdown",
   "metadata": {
    "id": "8nW1keeEL5hJ"
   },
   "source": [
    "Créez une liste Appreciations2 à partir de la liste Liste2 contenant les notes et les appréciation à l'aide d'une compréhension de liste"
   ]
  },
  {
   "cell_type": "code",
   "execution_count": null,
   "metadata": {
    "colab": {
     "base_uri": "https://localhost:8080/"
    },
    "id": "tQZgKZKyL7iJ",
    "outputId": "4ddb7981-9006-4141-ee12-2a6e0edb3a63"
   },
   "outputs": [],
   "source": [
    "Appreciations2 = [app2(nb) for nb in Liste2]\n",
    "print(Appreciations2)"
   ]
  },
  {
   "cell_type": "markdown",
   "metadata": {},
   "source": []
  },
  {
   "cell_type": "markdown",
   "metadata": {
    "id": "R_39fXLRMPyp"
   },
   "source": [
    "## Exercice 5.14 : Travail sur les listes de listes.\n",
    "\n",
    "Les carrés magiques : prolongement de l'exercice vu dans la leçon.\n",
    "\n",
    "**Première étape - Créer une fonction `Gen_carre` qui prend en paramètre un entier naturel non nul $n$, et qui renvoie un tableau carré (liste de liste) contenant les entiers de 1 à $n^2$ entiers \"mélangés\"** \n",
    "\n",
    "Par exemple : `Gen_carre(3)` porra retourner  \n",
    "`[[2,7,6],\n",
    "[9,5,1],\n",
    "[4,3,8]]`\n",
    "\n",
    "Vous allez utiliser le module `random` et  en particulier la fonction `shuffle` qui prend en paramètre une liste et qui la mélange \"sur place\". Par exemple `liste = [0,1,2,3]` suivi de `shuffle(liste)` va mélanger les éléments de liste et, par exemple, on obtiendra `liste = [3,0,1,2]`."
   ]
  },
  {
   "cell_type": "code",
   "execution_count": null,
   "metadata": {
    "id": "ppX00j0AMVMy"
   },
   "outputs": [],
   "source": [
    "from random import shuffle,randint\n",
    "\n",
    "def Gen_carre(n):\n",
    "\n",
    "    "
   ]
  },
  {
   "cell_type": "code",
   "execution_count": null,
   "metadata": {
    "colab": {
     "base_uri": "https://localhost:8080/"
    },
    "id": "eyV07Wi1MW2i",
    "outputId": "0e84f4ae-307b-47a4-95dc-8f9c750b5792"
   },
   "outputs": [],
   "source": [
    "carre3 = Gen_carre(3)\n",
    "print(carre3)\n"
   ]
  },
  {
   "cell_type": "markdown",
   "metadata": {
    "id": "pmbCoA_OMYbk"
   },
   "source": [
    "**Deuxième étape : Ecrire une fonction `somme_ligne` qui prend en paramètres un tableau carré d'entiers et un entier $n$ et qui retourne la somme de la ligne d'index $n$**"
   ]
  },
  {
   "cell_type": "code",
   "execution_count": null,
   "metadata": {
    "id": "w4cTTAwyMakt"
   },
   "outputs": [],
   "source": [
    "def somme_ligne(carre : list,n : int):\n",
    "\n"
   ]
  },
  {
   "cell_type": "code",
   "execution_count": null,
   "metadata": {
    "id": "WSnWqme-Mcus"
   },
   "outputs": [],
   "source": [
    "# Tests de la fonction somme_ligne\n",
    "\n",
    "carre3 = [[2, 7, 6],\n",
    "          [9, 5, 1],\n",
    "          [4, 3, 8]]\n",
    "\n",
    "carre4 = [[4, 5, 11, 14],\n",
    "          [15, 10, 8, 1],\n",
    "          [7, 3, 13, 12],\n",
    "          [9, 16, 2, 6]]\n",
    "\n",
    "assert somme_ligne(carre3,0) == 15\n",
    "assert somme_ligne(carre3,1) == 15\n",
    "assert somme_ligne(carre3,2) == 15\n",
    "assert somme_ligne(carre4,0) == 34\n",
    "assert somme_ligne(carre4,3) == 33"
   ]
  },
  {
   "cell_type": "markdown",
   "metadata": {
    "id": "v2_FU-OJMeUH"
   },
   "source": [
    "**Troisième étape : Ecrire une fonction `verif_lignes` qui prend en paramètres un tableau carré d'entiers et qui retourne un booléen indiquant si toutes les lignes ont la même somme.**"
   ]
  },
  {
   "cell_type": "code",
   "execution_count": null,
   "metadata": {
    "id": "DNLBkZ8tMgGn"
   },
   "outputs": [],
   "source": [
    "def verif_lignes(carre : list):\n"
   ]
  },
  {
   "cell_type": "code",
   "execution_count": null,
   "metadata": {
    "id": "mOMIJd8FMh7W"
   },
   "outputs": [],
   "source": [
    "# Tests de la fonction verif_lignes\n",
    "\n",
    "assert verif_lignes(carre3) == True\n",
    "assert verif_lignes(carre4) == False"
   ]
  },
  {
   "cell_type": "markdown",
   "metadata": {
    "id": "yZCk3zhVMjkQ"
   },
   "source": [
    "**Quatrième étape : Faire de même avec les colonnes.**  \n",
    "Vous avez la liberté pour construire les fonctions que vous souhaitez, ajoutez des docstrings et des tests à vos fonctions."
   ]
  },
  {
   "cell_type": "code",
   "execution_count": null,
   "metadata": {
    "id": "_t4xG9BQMlzp"
   },
   "outputs": [],
   "source": [
    "def somme_colonne(carre : list,index_colonne : int):\n",
    "\n",
    "\n",
    "assert somme_colonne(carre3,0) == 15\n",
    "assert somme_colonne(carre3,1) == 15\n",
    "assert somme_colonne(carre3,2) == 15\n",
    "assert somme_colonne(carre4,0) == 35\n",
    "assert somme_colonne(carre4,1) == 34\n",
    "\n",
    "def verif_colonnes(carre : list):\n",
    "\n",
    "\n",
    "assert verif_colonnes(carre3) == True\n",
    "assert verif_colonnes(carre4) == False"
   ]
  },
  {
   "cell_type": "markdown",
   "metadata": {
    "id": "0VRiUr9HMn7R"
   },
   "source": [
    "**Cinquième étape : Vérifier de même les deux diagonales**\n",
    "\n",
    "\n"
   ]
  },
  {
   "cell_type": "code",
   "execution_count": null,
   "metadata": {
    "id": "BKfFunRvM3E4"
   },
   "outputs": [],
   "source": [
    "def verif_diag(carre : list):\n",
    "\n",
    "    \n",
    "\n",
    "assert verif_diag(carre3) == True\n",
    "assert verif_diag(carre4) == False"
   ]
  },
  {
   "cell_type": "markdown",
   "metadata": {
    "id": "Tdvv0JifM45L"
   },
   "source": [
    "**Dernière étape : Ecrire une fonction qui prend en paramètre un tableau carré d'entiers et qui retourne un booléen indiquant si le carré est magique**"
   ]
  },
  {
   "cell_type": "code",
   "execution_count": null,
   "metadata": {
    "id": "aSU6mtpaM6sT"
   },
   "outputs": [],
   "source": [
    "def verif_carre(carre):\n",
    "\n",
    "\n",
    "assert verif_carre(carre3) == True\n",
    "assert verif_carre(carre4) == False\n",
    "    "
   ]
  },
  {
   "cell_type": "markdown",
   "metadata": {
    "id": "X5umwMyUM8J2"
   },
   "source": [
    "**Bonus : à l'aide de votre fonction `Gen_carre`, trouvez des carrés magiques d'ordre 3, puis 4.**  \n",
    "*Conseil : soyez patient !*"
   ]
  },
  {
   "cell_type": "code",
   "execution_count": null,
   "metadata": {
    "colab": {
     "base_uri": "https://localhost:8080/"
    },
    "id": "vvQuQ1WlM-8M",
    "outputId": "f79c3e31-2ef8-4513-a9ef-58fe62b20751"
   },
   "outputs": [],
   "source": [
    "# Voici une exemple de solution (Aucune inquiétude, je ne demandais pas de trouver ce type de programme mais d'essayer à la main\n",
    "def carre_magique_ordre3():\n",
    "\n",
    "                        \n",
    "carre_magique_ordre3()"
   ]
  }
 ],
 "metadata": {
  "colab": {
   "collapsed_sections": [],
   "name": "TP17_Travail_Python_Tableau_Correction.ipynb",
   "provenance": []
  },
  "kernelspec": {
   "display_name": "Python 3",
   "language": "python",
   "name": "python3"
  },
  "language_info": {
   "codemirror_mode": {
    "name": "ipython",
    "version": 3
   },
   "file_extension": ".py",
   "mimetype": "text/x-python",
   "name": "python",
   "nbconvert_exporter": "python",
   "pygments_lexer": "ipython3",
   "version": "3.9.7"
  }
 },
 "nbformat": 4,
 "nbformat_minor": 4
}
