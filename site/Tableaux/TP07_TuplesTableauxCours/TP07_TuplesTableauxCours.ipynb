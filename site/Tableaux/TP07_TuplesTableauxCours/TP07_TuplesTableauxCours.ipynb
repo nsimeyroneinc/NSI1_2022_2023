{
 "cells": [
  {
   "cell_type": "markdown",
   "metadata": {
    "id": "mA-5NTXhSBoF"
   },
   "source": [
    "<table  style=\"background-color:  #E7D052; width:100%;\">\n",
    "    <thead>\n",
    "        <tr>\n",
    "            <th style=\"text-align:center;border:solid;border-width:1px;font-size:20pt;width:70%;\">TD n°7 : Les types construits : tuples et tableaux</th>\n",
    "            <th style=\"text-align:center;border:solid;border-width:1px;font-size:12pt;width:30%\">Thème 4 : Langages et Programmation</th>\n",
    "        </tr>\n",
    "                    <tr>\n",
    "            <th style=\"text-align:center;border:solid;border-width:1px;font-size:20pt;width:70%;\"></th>\n",
    "            <th style=\"text-align:center;border:solid;border-width:1px;font-size:12pt;width:30%\">COURS</th>\n",
    "        </tr>\n",
    "    </thead>\n",
    "</table>"
   ]
  },
  {
   "cell_type": "markdown",
   "metadata": {
    "id": "42tnPv7MVF7b"
   },
   "source": [
    "# Les séquences en Python\n",
    ">nous avons parlé de **séquences d'instructions**, quand on exécute l'une après l'autre les instructions écrites sur des lignes successives en Python, par exemple. Ici, c'est différent. Les séquences dont on va parler sont des **types** particuliers, plus évolués que les types simples abordées jusque là comme les entiers, flottants, booléens...*\n",
    "\n",
    "Il est possible de «stocker» plusieurs grandeurs dans une même structure, ce type de structure est appelé une **séquence**. De façon plus précise, nous définirons une séquence comme un ensemble fini et ordonné d'éléments indicés de $0$ à $n-1$ (si cette séquence comporte $n$ éléments).\n",
    "\n",
    "Rassurez-vous, nous reviendrons ci-dessous sur cette définition. Nous allons étudier plus particulièrement 2 types de séquences : les **tuples** et les **tableaux** (*il en existe d'autres que nous n'évoquerons pas ici*). \n",
    "\n",
    "# I. Les tuples en Python\n",
    "\n",
    "Comme déjà dit ci-dessus, un tuple est une séquence. Voici un exemple très simple :"
   ]
  },
  {
   "cell_type": "code",
   "execution_count": 2,
   "metadata": {
    "id": "i51d2toTWDJG"
   },
   "outputs": [
    {
     "data": {
      "text/plain": [
       "(5, 8, 6, 9)"
      ]
     },
     "execution_count": 2,
     "metadata": {},
     "output_type": "execute_result"
    }
   ],
   "source": [
    "mon_tuple = (5, 8, 6, 9)\n",
    "mon_tuple"
   ]
  },
  {
   "cell_type": "markdown",
   "metadata": {
    "id": "tXgJ9ys3WFrE"
   },
   "source": [
    "Dans le code ci-dessus, la variable mon_tuple référence un tuple, ce tuple est constitué des entiers 5, 8, 6 et 9. Comme indiqué dans la définition, chaque élément du tuple est indicé (il possède un indice) :\n",
    "\n",
    "* **le premier élément** du tuple (l'entier 5) possède l'**indice 0**\n",
    "* le deuxième élément du tuple (l'entier 8) possède l'indice 1\n",
    "* le troisième élément du tuple (l'entier 6) possède l'indice 2\n",
    "* le quatrième élément du tuple (l'entier 9) possède l'indice 3\n",
    "\n",
    "Comment accéder à l'élément d'indice $i$ dans un tuple qui correspond à mon $(i+1)^{ème}$ élément)?\n",
    "\n",
    "Simplement en utilisant la «notation entre crochets» : \n",
    "\n",
    "```python\n",
    "mon_tuple[i]\n",
    "```\n",
    "\n",
    "\n",
    "#### À vous 1\n",
    "Testez le code suivant (tentez de répondre aux questions qui suivent avant !)\n",
    "\n"
   ]
  },
  {
   "cell_type": "code",
   "execution_count": null,
   "metadata": {
    "id": "1iXoKnb3WI80"
   },
   "outputs": [],
   "source": [
    "mon_tuple = (5, 8, 6, 9)\n",
    "a = mon_tuple[2]"
   ]
  },
  {
   "cell_type": "markdown",
   "metadata": {
    "id": "bIm_3aI8WXID"
   },
   "source": [
    "Quelle est la valeur référencée par la variable `a` ?\n",
    "\n",
    "La variable `mon_tuple` référence le tuple `(5, 8, 6, 9)`, \n",
    "la variable `a` référence l'entier 6 car cet entier 6 est bien le troisième élément du tuple, il possède donc l'indice 2\n",
    "\n",
    "**&#x26A0;  ATTENTION** : dans les séquences **les indices commencent toujours à 0** (le premier élément de la séquence a pour indice 0), oublier cette particularité est une source d'erreur «classique».\n",
    "    \n",
    "#### À vous 2\n",
    "Complétez le code ci-dessous (en remplaçant les ..) afin qu'après l'exécution de ce programme la variable `a` référence l'entier 8."
   ]
  },
  {
   "cell_type": "code",
   "execution_count": null,
   "metadata": {
    "id": "FXYGcsrhWbAc"
   },
   "outputs": [],
   "source": [
    "mon_tuple = (5, 8, 6, 9)\n",
    "a = mon_tuple[..]\n",
    "a"
   ]
  },
  {
   "cell_type": "markdown",
   "metadata": {
    "id": "HMTnjMXNWdZF"
   },
   "source": [
    "Un tuple ne contient pas forcément des nombres entiers, il peut aussi contenir des nombres décimaux, des chaînes de caractères, des booléens...\n",
    "\n",
    "#### À vous 3\n",
    "Quel est le résultat attendu après l'exécution du programme suivant ?  \n",
    "Vérifiez votre hypothèse en testant ce programme."
   ]
  },
  {
   "cell_type": "code",
   "execution_count": null,
   "metadata": {
    "id": "KsysCKh1WhE2"
   },
   "outputs": [],
   "source": [
    "mon_tuple = (\"le\", \"monde\", \"bonjour\")\n",
    "print(mon_tuple[2] + \" \" + mon_tuple[0] + \" \" + mon_tuple[1] + \"!\")"
   ]
  },
  {
   "cell_type": "markdown",
   "metadata": {
    "id": "2lJMB_EGWkZm"
   },
   "source": [
    "Grâce au tuple, une fonction peut renvoyer plusieurs valeurs :  \n",
    "#### À vous 4\n",
    "Analysez puis testez le code suivant :"
   ]
  },
  {
   "cell_type": "code",
   "execution_count": null,
   "metadata": {
    "id": "d_Dg02ZMWqi9"
   },
   "outputs": [],
   "source": [
    "def add(a, b):\n",
    "    c = a + b\n",
    "    return (a, b, c)\n",
    "mon_tuple = add(5, 8)\n",
    "print(f\"{mon_tuple[0]} + {mon_tuple[1]} = {mon_tuple[2]}\")"
   ]
  },
  {
   "cell_type": "markdown",
   "metadata": {
    "id": "IdXq1IzJWuJX"
   },
   "source": [
    "Il faut bien comprendre dans l'exemple ci-dessus que la variable `mon_tuple` référence un tuple (puisque la fonction `add` renvoie un tuple), d'où la «notation entre crochets» utilisée avec `mon_tuple` (`mon_tuple[1]`...)"
   ]
  },
  {
   "cell_type": "markdown",
   "metadata": {},
   "source": [
    "##### Lorsqu'on utilise une fonction qui renvoie plusieurs valeurs :"
   ]
  },
  {
   "cell_type": "code",
   "execution_count": 22,
   "metadata": {},
   "outputs": [],
   "source": [
    "def somme_et_produit(a, b):\n",
    "    somme = a + b\n",
    "    produit = a * b\n",
    "    return somme, produit"
   ]
  },
  {
   "cell_type": "code",
   "execution_count": 23,
   "metadata": {},
   "outputs": [
    {
     "data": {
      "text/plain": [
       "(8, 15)"
      ]
     },
     "execution_count": 23,
     "metadata": {},
     "output_type": "execute_result"
    }
   ],
   "source": [
    "somme_et_produit(5, 3)"
   ]
  },
  {
   "cell_type": "markdown",
   "metadata": {},
   "source": [
    "On voit que la fonction renvoie ici un 2-uplet mais qu'on peut récupérer les deux valeurs séparément :"
   ]
  },
  {
   "cell_type": "code",
   "execution_count": 24,
   "metadata": {},
   "outputs": [
    {
     "name": "stdout",
     "output_type": "stream",
     "text": [
      "s a pour valeur 8 et p a pour valeur 15\n"
     ]
    }
   ],
   "source": [
    "s, p = somme_et_produit(5, 3)\n",
    "print(f's a pour valeur {s} et p a pour valeur {p}')"
   ]
  },
  {
   "cell_type": "markdown",
   "metadata": {},
   "source": [
    "Il n'est **pas possible de modifier un tuple après sa création** (on parle d'**objet immutable**), si vous essayez de modifier un tuple existant, l'interpréteur Python vous renverra une erreur. "
   ]
  },
  {
   "cell_type": "code",
   "execution_count": 8,
   "metadata": {},
   "outputs": [
    {
     "name": "stderr",
     "output_type": "stream",
     "text": [
      "Traceback (most recent call last):\n",
      "  File \"<input>\", line 2, in <module>\n",
      "TypeError: 'tuple' object does not support item assignment\n"
     ]
    }
   ],
   "source": [
    "mon_tuple = (5, 8, 6, 9)\n",
    "mon_tuple[0]=3\n",
    "mon_tuple"
   ]
  },
  {
   "cell_type": "markdown",
   "metadata": {
    "id": "S7bS1L1IXBPu"
   },
   "source": [
    "#  II. Les tableaux en Python\n",
    "\n",
    "*ATTENTION* : Dans la suite nous allons employer le terme «**tableau**». Pour parler de ces «tableaux» les concepteurs de Python ont choisi d'utiliser le terme de «**list**» («liste» en français).  \n",
    "Pour éviter toute confusion, notamment par rapport à des notions qui seront abordées en terminale, le choix a été fait d'employer «tableau» à la place de «liste» (dans la documentation vous rencontrerez le terme «list», cela ne devra pas vous pertuber)\n",
    "\n",
    " \n",
    "**Les tableaux** sont, comme les tuples, des séquences, mais à la différence des tuples, ils **sont modifiables** (on parle d'**objets «mutables»**)."
   ]
  },
  {
   "cell_type": "markdown",
   "metadata": {},
   "source": [
    "Pour créer un tableau, il existe différentes méthodes : une de ces méthodes ressemble beaucoup à la création d'un tuple : "
   ]
  },
  {
   "cell_type": "code",
   "execution_count": null,
   "metadata": {
    "id": "36-4A0DdXEG8"
   },
   "outputs": [],
   "source": [
    "mon_tab = [5, 8, 6, 9]\n",
    "mon_tab"
   ]
  },
  {
   "cell_type": "markdown",
   "metadata": {
    "id": "uieP35GMXRoT"
   },
   "source": [
    "Notez la présence des **crochets** à la place des parenthèses.\n",
    "\n",
    "Un tableau est une séquence, il est donc possible de «récupérer» un élément d'un tableau à l'aide de son indice (de la même manière que pour un tuple).\n",
    "\n",
    "### Accéder à un  élément d'un tableau à partir de son indice (l'indexation commence à zéro)\n",
    "#### À vous 5\n",
    "\n",
    "Quelle est la valeur référencée par la variable `ma_variable` après l'exécution du programme ci-dessous ? "
   ]
  },
  {
   "cell_type": "code",
   "execution_count": null,
   "metadata": {
    "id": "5vr_jdQOXUoh"
   },
   "outputs": [],
   "source": [
    "mon_tab = [5, 8, 6, 9]\n",
    "ma_variable = mon_tab[2]\n",
    "ma_variable"
   ]
  },
  {
   "cell_type": "markdown",
   "metadata": {
    "id": "ZW3zMXruXWnH"
   },
   "source": [
    "**N.B.** Il est possible de saisir directement `mon_tab[2]` dans la cellule sans passer par l'intermédiaire de la variable `ma_variable`.\n",
    "\n",
    "Il est possible de modifier un tableau à l'aide de la «notation entre crochets» :\n",
    "\n",
    "#### À vous 6\n",
    "\n",
    "Quel est le contenu du tableau référencé par la variable `mon_tab` après l'exécution du programme ci-dessous ? (Vérification en exécutant la cellule comme précédemment)"
   ]
  },
  {
   "cell_type": "code",
   "execution_count": null,
   "metadata": {
    "id": "6SEZGQsQXZrw"
   },
   "outputs": [],
   "source": [
    "mon_tab = [5, 8, 6, 9]\n",
    "mon_tab[2] = 15\n",
    "mon_tab"
   ]
  },
  {
   "cell_type": "markdown",
   "metadata": {},
   "source": [
    "Comme vous pouvez le constater avec l'exemple ci-dessus, l'élément d'indice 2 (le nombre entier 6) a bien été remplacé par le nombre entier 15.  \n",
    "\n",
    "Il est important de savoir qu'on peut numéroter «en partant de la fin». Le dernier élément du tableau correspond ainsi à l'indice -1, l'avant dernier élément à l'indice - 2 etc..."
   ]
  },
  {
   "cell_type": "code",
   "execution_count": null,
   "metadata": {},
   "outputs": [],
   "source": [
    "mon_tab[-1]"
   ]
  },
  {
   "cell_type": "code",
   "execution_count": null,
   "metadata": {},
   "outputs": [],
   "source": [
    "mon_tab[-3]"
   ]
  },
  {
   "cell_type": "markdown",
   "metadata": {
    "id": "KKDONH7KXb_s"
   },
   "source": [
    "### Ajout d'un élément dans un tableau \n",
    "Il est aussi possible d'ajouter un élément en fin de tableau à l'aide de la méthode append :\n",
    "\n",
    "#### À vous 7\n",
    "Quel est le contenu du tableau référencé par la variable mon_tab après l'exécution du programme ci-dessous ? (Vérification sur place comme précédemment, on ne le répètera plus...)"
   ]
  },
  {
   "cell_type": "code",
   "execution_count": 9,
   "metadata": {
    "id": "tZnWeeWEXeVr"
   },
   "outputs": [
    {
     "data": {
      "text/plain": [
       "[5, 8, 6, 9, 15]"
      ]
     },
     "execution_count": 9,
     "metadata": {},
     "output_type": "execute_result"
    }
   ],
   "source": [
    "mon_tab = [5, 8, 6, 9]\n",
    "mon_tab.append(15)\n",
    "mon_tab"
   ]
  },
  {
   "cell_type": "markdown",
   "metadata": {
    "id": "aahG52YXXg2u"
   },
   "source": [
    "### Suppression d'un élément dans un tablau  \n",
    "L'**instruction `del`** permet de supprimer un élément d'un tableau en utilisant son index :\n",
    "\n",
    "#### À vous 8\n",
    "Quel est le contenu du tableau référencé par la variable `mon_tab` après l'exécution du programme ci-dessous ?"
   ]
  },
  {
   "cell_type": "code",
   "execution_count": null,
   "metadata": {
    "id": "axIqlWKIXkQh"
   },
   "outputs": [],
   "source": [
    "del mon_tab[1]\n",
    "mon_tab"
   ]
  },
  {
   "cell_type": "markdown",
   "metadata": {
    "id": "UVwDsrCqXmWD"
   },
   "source": [
    "### Longueur d'un tableau  \n",
    "La **fonction `len`** permet de connaitre le nombre d’éléments présents dans une séquence (tableau et tuple)\n",
    "\n",
    "#### À vous 9\n",
    "Quelle est la valeur référencée par la variable `nb_elements` après l'exécution du programme ci-dessous ?"
   ]
  },
  {
   "cell_type": "code",
   "execution_count": 10,
   "metadata": {
    "id": "JkzbQFsjXpiW"
   },
   "outputs": [
    {
     "data": {
      "text/plain": [
       "4"
      ]
     },
     "execution_count": 10,
     "metadata": {},
     "output_type": "execute_result"
    }
   ],
   "source": [
    "mon_tab = [5, 8, 6, 9]\n",
    "nb_elements = len(mon_tab)\n",
    "nb_elements"
   ]
  },
  {
   "cell_type": "markdown",
   "metadata": {
    "id": "wFj3kzNWXtdD"
   },
   "source": [
    "## Parcourir un tableau :\n",
    "\n",
    "La boucle `for` permet de parcourir tous les éléments d'une _séquence_. En utilisant `range()` on a vu que l'on peut parcourir une séquence de nombres. \n",
    "\n",
    "Quelques explications : comme son nom l'indique, la boucle `for` est une boucle ! Nous «sortirons» de la boucle une fois que tous les éléments du tableau mon_tab auront été parcourus. `element` est une variable qui va :\n",
    "- au premier tour de boucle, référencer le premier élément du tableau (l'entier 5)\n",
    "- au deuxième tour de boucle, référencer le deuxième élément du tableau (l'entier 8)\n",
    "- au troisième tour de boucle, référencer le troisième élément du tableau (l'entier 6)\n",
    "- au quatrième tour de boucle, référencer le quatrième élément de le tableau (l'entier 9)\n",
    "\n",
    "**Remarque :**  Une chose importante à bien comprendre : le choix du nom de la variable qui va référencer les éléments du tableau les uns après les autres (element) est totalement arbitraire, il est possible de choisir un autre nom sans aucun problème.\n",
    "\n",
    "Il se trouve que les chaînes de caractères sont également des _séquences_ ... de caractères. On peut donc aussi les parcourir très simplement avec une boucle `for`, de deux manières différentes.\n",
    "\n",
    "### Par ses éléments\n",
    "\n",
    "On peut parcourir une chaîne directement par ses éléments :"
   ]
  },
  {
   "cell_type": "code",
   "execution_count": 12,
   "metadata": {
    "id": "Qz4Eo0wPXwts"
   },
   "outputs": [
    {
     "name": "stdout",
     "output_type": "stream",
     "text": [
      "5\n",
      "8\n",
      "6\n",
      "9\n"
     ]
    }
   ],
   "source": [
    "mon_tab = [5, 8, 6, 9]\n",
    "for nombre in mon_tab:\n",
    "    print (nombre)"
   ]
  },
  {
   "cell_type": "markdown",
   "metadata": {},
   "source": [
    "### Par l'indice de ses éléments\n",
    "On peut aussi utiliser la fonction range() pour parcourir les élémens par leurs indices."
   ]
  },
  {
   "cell_type": "code",
   "execution_count": 14,
   "metadata": {},
   "outputs": [
    {
     "name": "stdout",
     "output_type": "stream",
     "text": [
      "5\n",
      "8\n",
      "6\n",
      "9\n"
     ]
    }
   ],
   "source": [
    "for indice in range(len(mon_tab)):\n",
    "    print(mon_tab[indice])"
   ]
  },
  {
   "cell_type": "markdown",
   "metadata": {
    "id": "uFPtF6boYIR3"
   },
   "source": [
    "**ATTENTION** : si vous avez dans un programme `range(a,b)`, `a` est la borne inférieure et `b` a borne supérieure. Vous ne devez surtout pas perdre de vu que **la borne inférieure est incluse**, mais que **la borne supérieure est exclue**."
   ]
  },
  {
   "cell_type": "markdown",
   "metadata": {},
   "source": [
    "## Création d'un tableau    \n",
    "Il est possible d'utiliser la méthode `range` pour `remplir` un tableau :\n",
    "\n",
    "#### À vous 10\n",
    "\n",
    "Quel est le contenu du tableau référencé par la variable mon_tab après l'exécution du programme ci-dessous ?"
   ]
  },
  {
   "cell_type": "code",
   "execution_count": 16,
   "metadata": {
    "id": "rbwU2ns2YK8Y"
   },
   "outputs": [
    {
     "data": {
      "text/plain": [
       "[0, 1, 2, 3, 4, 5, 6, 7, 8]"
      ]
     },
     "execution_count": 16,
     "metadata": {},
     "output_type": "execute_result"
    }
   ],
   "source": [
    "mon_tab = []\n",
    "for element in range(0, 9):\n",
    "    mon_tab.append(element)\n",
    "mon_tab"
   ]
  },
  {
   "cell_type": "markdown",
   "metadata": {
    "id": "MrkObLbZYNHZ"
   },
   "source": [
    "## Créer un tableau par compréhension\n",
    "\n",
    "Nous avons vu qu'il était possible de «remplir» un tableau en renseignant les éléments du tableau les uns après les autres : "
   ]
  },
  {
   "cell_type": "code",
   "execution_count": null,
   "metadata": {
    "id": "Zynr5_HtYRwA"
   },
   "outputs": [],
   "source": [
    "mon_tab = [5, 8, 6, 9]"
   ]
  },
  {
   "cell_type": "markdown",
   "metadata": {
    "id": "MXZx1WCAYURG"
   },
   "source": [
    "ou encore à l'aide de la méthode `append` (voir «À vous 10»).\n",
    "\n",
    "Il est aussi possible d'obtenir exactement le même résultat qu'au «À vous 10» en une seule ligne grâce à la compréhension de tableau :\n",
    "\n",
    "#### À vous 11\n",
    "\n",
    "Quel est le contenu du tableau référencée par la variable mon_tab après l'exécution du programme ci-dessous ?"
   ]
  },
  {
   "cell_type": "code",
   "execution_count": 18,
   "metadata": {
    "id": "uQDKAiJ_YWqi"
   },
   "outputs": [
    {
     "data": {
      "text/plain": [
       "[0, 1, 2, 3, 4, 5, 6, 7, 8]"
      ]
     },
     "execution_count": 18,
     "metadata": {},
     "output_type": "execute_result"
    }
   ],
   "source": [
    "mon_tab = [p for p in range(0, 9)]\n",
    "mon_tab"
   ]
  },
  {
   "cell_type": "markdown",
   "metadata": {
    "id": "X-BctK_FYZFw"
   },
   "source": [
    "Les compréhensions de tableau permettent de rajouter une condition (`if`) :\n",
    "\n",
    "#### À vous 12\n",
    "\n",
    "Quel est le contenu du tableau référencé par la variable mon_tab après l'exécution du programme ci-dessous ?"
   ]
  },
  {
   "cell_type": "code",
   "execution_count": 20,
   "metadata": {
    "id": "d9f-ncV4Yba8"
   },
   "outputs": [
    {
     "data": {
      "text/plain": [
       "[15, 20]"
      ]
     },
     "execution_count": 20,
     "metadata": {},
     "output_type": "execute_result"
    }
   ],
   "source": [
    "tab1 = [1, 7, 9, 15, 5, 20, 10, 8]\n",
    "mon_tab = [p for p in tab1 if p > 10]\n",
    "mon_tab"
   ]
  },
  {
   "cell_type": "markdown",
   "metadata": {
    "id": "GqqcRrBaYdfZ"
   },
   "source": [
    "Autre possibilité, utiliser des composants «arithmétiques» :\n",
    "#### À vous 13\n",
    "Quel est le contenu du tableau référencé par la variable `mon_tab` après l'exécution du programme ci-dessous ?"
   ]
  },
  {
   "cell_type": "code",
   "execution_count": 21,
   "metadata": {
    "id": "OlihF4ccYhEV"
   },
   "outputs": [
    {
     "data": {
      "text/plain": [
       "[1, 49, 81, 25, 64]"
      ]
     },
     "execution_count": 21,
     "metadata": {},
     "output_type": "execute_result"
    }
   ],
   "source": [
    "tab1 = [1, 7, 9, 15, 5, 20, 10, 8]\n",
    "mon_tab = [p**2 for p in tab1 if p < 10]\n",
    "mon_tab"
   ]
  },
  {
   "cell_type": "markdown",
   "metadata": {
    "id": "NBAZ3WFlYjYe"
   },
   "source": [
    "Rappel : `p**2` permet d’obtenir la valeur de `p` élevée au carrée ($p^2$).\n",
    "\n",
    "Comme vous pouvez le remarquer, nous obtenons un tableau `mon_tab` qui contient tous les éléments du tableau `tab1` élevés au carré à condition que ces éléments de `tab1` soient inférieurs à 10. Comme vous pouvez le constater, la compréhension de tableau permet d'obtenir des combinaisons relativement complexes.\n",
    "\n",
    "# III. Travailler sur des \"tableaux de tableaux\"\n",
    "\n",
    "Chaque élément d'un tableau peut être un tableau, on parle de tableau de tableau.\n",
    "\n",
    "Voici un exemple de tableau de tableau : "
   ]
  },
  {
   "cell_type": "code",
   "execution_count": null,
   "metadata": {
    "id": "6mBFfJ-TYm1q"
   },
   "outputs": [],
   "source": [
    "m = [[1, 3, 4], [5 ,6 ,8], [2, 1, 3], [7, 8, 15]]"
   ]
  },
  {
   "cell_type": "markdown",
   "metadata": {
    "id": "AOPq5OEUYpSP"
   },
   "source": [
    "Le premier élément du tableau ci-dessus est bien un tableau (`[1, 3, 4]`), le deuxième élément est aussi un tableau (`[5, 6, 8]`)...\n",
    "\n",
    "Il est souvent plus pratique de présenter ces «tableaux de tableaux» comme suit :"
   ]
  },
  {
   "cell_type": "code",
   "execution_count": null,
   "metadata": {
    "id": "RAKYxHDiYsbB"
   },
   "outputs": [],
   "source": [
    "m = [[1, 3, 4],\n",
    "     [5, 6, 8],\n",
    "     [2, 1, 3],\n",
    "     [7, 8, 15]]"
   ]
  },
  {
   "cell_type": "markdown",
   "metadata": {
    "id": "2sMfAcEUYubB"
   },
   "source": [
    "Nous obtenons ainsi quelque chose qui ressemble beaucoup à un \"objet mathématique\" très utilisé : une **matrice**.\n",
    "\n",
    "Il est évidemment possible d'utiliser les indices de position avec ces «tableaux de tableaux». Pour cela nous allons considérer notre tableau de tableaux comme une matrice, c'est à dire en utilisant les notions de «ligne» et de «colonne». Dans la matrice ci-dessus :\n",
    "\n",
    "En ce qui concerne les lignes :\n",
    "- 1, 3, 4 constituent la première ligne\n",
    "- 5, 6, 8 constituent la deuxième ligne\n",
    "- 2, 1, 3 constituent la troisième ligne\n",
    "- 7, 8, 15 constituent la quatrième ligne\n",
    "En ce qui concerne les colonnes :\n",
    "- 1, 5, 2, 7 constituent la première colonne\n",
    "- 3, 6, 1, 8 constituent la deuxième colonne\n",
    "- 4, 8, 3, 15 constituent la troisième colonne\n",
    "\n",
    "Pour cibler un élément particulier de la matrice, on utilise la notation avec «doubles crochets» : **`m[ligne][colonne]`** (sans perdre de vu que **la première ligne et la première colonne ont pour indice 0**)\n",
    "\n",
    "#### À vous 14\n",
    "\n",
    "Quelle est la valeur référencée par la variable `a` après l'exécution du programme ci-dessous ?"
   ]
  },
  {
   "cell_type": "code",
   "execution_count": 25,
   "metadata": {
    "id": "hQhqEMYRYxX5"
   },
   "outputs": [
    {
     "data": {
      "text/plain": [
       "8"
      ]
     },
     "execution_count": 25,
     "metadata": {},
     "output_type": "execute_result"
    }
   ],
   "source": [
    "m = [[1, 3, 4],\n",
    "     [5, 6, 8],\n",
    "     [2, 1, 3],\n",
    "     [7, 8, 15]]\n",
    "\n",
    "a = m[1][2]\n",
    "a"
   ]
  },
  {
   "cell_type": "markdown",
   "metadata": {
    "id": "MHOP3ayGYzfo"
   },
   "source": [
    "Comme vous pouvez le constater, la variable a référence bien l'entier situé à la 2e ligne (indice 1) et à la 3e colonne (indice 2), c'est-à-dire 8.\n",
    "\n",
    "#### À vous 15\n",
    "Quel est le contenu du tableau référencé par la variable `mm` après l'exécution du programme ci-dessous (*si nécessaire, affichez d'abord la valeur de `mm` sans exécuter la dernière ligne, pour bien comprendre*) ?"
   ]
  },
  {
   "cell_type": "code",
   "execution_count": 27,
   "metadata": {
    "id": "FFkLAYYHY2OZ"
   },
   "outputs": [
    {
     "data": {
      "text/plain": [
       "[[100, 2, 3], [100, 2, 3], [100, 2, 3]]"
      ]
     },
     "execution_count": 27,
     "metadata": {},
     "output_type": "execute_result"
    }
   ],
   "source": [
    "m = [1, 2, 3]\n",
    "mm = [m, m, m]\n",
    "print(mm)\n",
    "m[0] = 100\n",
    "mm"
   ]
  },
  {
   "cell_type": "markdown",
   "metadata": {
    "id": "bKpHQYSUY4Gq"
   },
   "source": [
    "Comme vous pouvez le constater, **la modification du tableau référencé par la variable `m` entraine la modification du tableau référencé par la variable `mm`** (alors que nous n'avons pas directement modifié le tableau référencé par `mm`). Il faut donc être très prudent lors de ce genre de manipulation afin d'éviter des modifications non désirées.\n",
    "\n",
    "Il est possible de parcourir l'ensemble des éléments d'une matrice à l'aide d'une «double boucle `for`» :\n",
    "\n",
    "#### À vous 16\n",
    "\n",
    "Analysez puis testez le code suivant :"
   ]
  },
  {
   "cell_type": "code",
   "execution_count": null,
   "metadata": {},
   "outputs": [],
   "source": [
    "m = [[1, 3, 4],\n",
    "     [5, 6, 8],\n",
    "     [2, 1, 3],\n",
    "     [7, 8, 15]]\n",
    "\n",
    "nb_colonne = 3\n",
    "nb_ligne = 4\n",
    "\n",
    "for i in range(0, nb_ligne):\n",
    "    for j in range(0, nb_colonne):\n",
    "        a = m[i][j]\n",
    "        print(a)"
   ]
  }
 ],
 "metadata": {
  "colab": {
   "collapsed_sections": [],
   "name": "TP17_Travail_Python_Tableau_Correction.ipynb",
   "provenance": []
  },
  "kernelspec": {
   "display_name": "Python 3 (ipykernel)",
   "language": "python",
   "name": "python3"
  },
  "language_info": {
   "codemirror_mode": {
    "name": "ipython",
    "version": 3
   },
   "file_extension": ".py",
   "mimetype": "text/x-python",
   "name": "python",
   "nbconvert_exporter": "python",
   "pygments_lexer": "ipython3",
   "version": "3.8.5"
  }
 },
 "nbformat": 4,
 "nbformat_minor": 4
}
