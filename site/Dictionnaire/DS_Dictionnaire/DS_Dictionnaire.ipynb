{
 "cells": [
  {
   "cell_type": "markdown",
   "metadata": {},
   "source": [
    "# Devoir  : Dictionnaire"
   ]
  },
  {
   "cell_type": "markdown",
   "metadata": {},
   "source": [
    "## Exercice n°1 : Les bases du cours  \n",
    "\n",
    "\n",
    "Imaginons que je fasse l'inventaire de mon dressing :\n",
    "\n",
    "| habits | quantité |\n",
    "| :--: | :--: |\n",
    "| pantalons | 3 |\n",
    "| pulls | 4 |\n",
    "| tee-shirts | 8 |\n",
    "| sweats | 5 |\n",
    "\n",
    "\n",
    "**Question 1 :**  \n",
    "Créer le dictionnaire représentant mon dressing.  "
   ]
  },
  {
   "cell_type": "code",
   "execution_count": null,
   "metadata": {},
   "outputs": [],
   "source": []
  },
  {
   "cell_type": "markdown",
   "metadata": {},
   "source": [
    "**Question 2 :**  \n",
    "Rajouter la catégorie `chemises` avec une quantité de 6."
   ]
  },
  {
   "cell_type": "code",
   "execution_count": null,
   "metadata": {},
   "outputs": [],
   "source": []
  },
  {
   "cell_type": "markdown",
   "metadata": {},
   "source": [
    "**Question 3 :**  \n",
    "Ecrivez un programme permettant d'obtenir l'affichage suivant.\n",
    "\n",
    "```python\n",
    "Le dressing comporte : \n",
    "3 pantalons\n",
    "4 pulls\n",
    "8 tee-shirts\n",
    "5 sweats\n",
    "6 chemises\n",
    "```"
   ]
  },
  {
   "cell_type": "code",
   "execution_count": null,
   "metadata": {},
   "outputs": [],
   "source": []
  },
  {
   "cell_type": "markdown",
   "metadata": {},
   "source": [
    "**Question 4 :**\n",
    "Ecrire une fonction `achat(vetement,quantite)` en y incluant un test pour prendre en compte les nouveaux habits."
   ]
  },
  {
   "cell_type": "code",
   "execution_count": null,
   "metadata": {},
   "outputs": [],
   "source": []
  },
  {
   "cell_type": "markdown",
   "metadata": {},
   "source": [
    "## Exercice n°2 : notes d'examen\n",
    "\n",
    "On modélise des résultats à un examen grâce à des dictionnaires de la forme suivante :"
   ]
  },
  {
   "cell_type": "code",
   "execution_count": 3,
   "metadata": {},
   "outputs": [],
   "source": [
    "candidat_a = {'nom' : 'John' ,  'ecrit' : 15, 'oral' : 13, 'projet' : 17}\n",
    "candidat_b = {'nom' : 'Elsa' ,  'ecrit' : 18, 'oral' : 17, 'projet' : 16}\n",
    "candidat_c = {'nom' : 'Icham' , 'ecrit' : 11, 'oral' : 17, 'projet' : 20}\n",
    "candidat_d = {'nom' : 'Eva',    'ecrit' : 3,  'oral' : 19, 'projet' : 14}"
   ]
  },
  {
   "cell_type": "markdown",
   "metadata": {},
   "source": [
    "**Question 1 :**  \n",
    "Ecrire la commande permettant d'accéder à la note de projet du candidat_a"
   ]
  },
  {
   "cell_type": "code",
   "execution_count": null,
   "metadata": {},
   "outputs": [],
   "source": []
  },
  {
   "cell_type": "markdown",
   "metadata": {},
   "source": [
    "**Question 2**  \n",
    "Ecrire une fonction `affichenote(candidat,matiere)` ayant comme paramètres `candidat` et `matiere` et renvoyant le nom du candidat ainsi que la note de la matière choisie."
   ]
  },
  {
   "cell_type": "code",
   "execution_count": 9,
   "metadata": {},
   "outputs": [],
   "source": [
    "def affichenote(candidat,matiere):\n",
    "    nom=candidat['nom']\n",
    "    note=candidat[matiere]\n",
    "    return nom,note\n",
    "\n"
   ]
  },
  {
   "cell_type": "markdown",
   "metadata": {},
   "source": [
    "Tester votre fonction grâce au jeu de tests ci-dessous."
   ]
  },
  {
   "cell_type": "code",
   "execution_count": 10,
   "metadata": {},
   "outputs": [],
   "source": [
    "assert affichenote(candidat_a,'ecrit')==('John',15)\n",
    "assert affichenote(candidat_b,'oral')==('Elsa', 17)\n",
    "assert affichenote(candidat_c,'projet')==('Icham', 20)"
   ]
  },
  {
   "cell_type": "markdown",
   "metadata": {},
   "source": [
    "Compléter la fonction `moyenne` qui prend en paramètre un dictionnaire modélisant des résultats à un examen et renvoie la moyenne correspondante (chaque épreuve est coefficient 1)."
   ]
  },
  {
   "cell_type": "code",
   "execution_count": null,
   "metadata": {},
   "outputs": [],
   "source": [
    "def moyenne(candidat):\n",
    "    ..."
   ]
  },
  {
   "cell_type": "markdown",
   "metadata": {},
   "source": [
    "Tester votre fonction grâce au jeu de tests ci-dessous."
   ]
  },
  {
   "cell_type": "code",
   "execution_count": null,
   "metadata": {},
   "outputs": [],
   "source": [
    "assert moyenne(candidat_a) == 15\n",
    "assert moyenne(candidat_b) == 17\n",
    "assert moyenne(candidat_c) == 16\n",
    "assert moyenne(candidat_d) == 12"
   ]
  },
  {
   "cell_type": "markdown",
   "metadata": {},
   "source": [
    "**Question 2 :**\n",
    "\n",
    "Suite à une commission d'harmonisation, il est décidé que :\n",
    "- les notes de projet sont baissées de 2 points (sans pouvoir devenir négatives),\n",
    "- les notes d'oral sont baissées de 4 points (sans pouvoir devenir négatives non plus).  \n",
    "\n",
    "\n",
    "Compléter la fonction `harmonisation` ci-dessous qui prend en paramètre un dictionnaire `candidat` modélisant des résultats à un examen et **renvoie une copie du dictionnaire `candidat` dont les notes de projet et d'oral ont été modifiées comme indiqué plus haut**."
   ]
  },
  {
   "cell_type": "code",
   "execution_count": null,
   "metadata": {},
   "outputs": [],
   "source": [
    "import copy\n",
    "\n",
    "def harmonisation(candidat):\n",
    "    copie_candidat = copy.deepcopy(...)\n",
    "    ...\n",
    "    ...\n",
    "    return ...\n",
    "    "
   ]
  },
  {
   "cell_type": "markdown",
   "metadata": {},
   "source": [
    "Tester votre fonction grâce au jeu de tests ci-dessous :"
   ]
  },
  {
   "cell_type": "code",
   "execution_count": null,
   "metadata": {},
   "outputs": [],
   "source": [
    "assert harmonisation({'nom' : 'John' ,  'ecrit' : 15, 'oral' : 3, 'projet' : 17}) == {'nom' : 'John' ,  'ecrit' : 15, 'oral' : 0, 'projet' : 15}\n",
    "assert harmonisation({'nom' : 'Elsa' ,  'ecrit' : 18, 'oral' : 17, 'projet' : 1}) == {'nom' : 'Elsa' ,  'ecrit' : 18, 'oral' : 13, 'projet' : 0}\n",
    "assert harmonisation({'nom' : 'Icham' , 'ecrit' : 11, 'oral' : 17, 'projet' : 20}) == {'nom' : 'Icham' , 'ecrit' : 11, 'oral' : 13, 'projet' : 18}"
   ]
  },
  {
   "cell_type": "markdown",
   "metadata": {},
   "source": [
    "## Exercice n°3 : parcours - montant des achats"
   ]
  },
  {
   "cell_type": "markdown",
   "metadata": {},
   "source": [
    "On considère des dictionnaires mémorisant les sommes dépensées par des clients sur un site de e-commerce, **depuis leur première commande**. Ces dictionnaires sont donc mis à jour :\n",
    "- dès qu'un des clients déjà inscrit sur le site, dans la catégorie concernée, effectue une nouvelle commande,\n",
    "- dès qu'un client nouvellement inscrit, dans la catégorie concernée, effectue sa première commande.\n",
    "\n",
    "Les clients sont identifiés par une référence client de sept caractères.  \n",
    "Voici un exemple possible de dictionnaire pour un ensemble de cinq clients :"
   ]
  },
  {
   "cell_type": "markdown",
   "metadata": {},
   "source": [
    "achats = {'AB45112' : 235.67,\n",
    "          'JC56911' : 3496.54,\n",
    "          'PO98386' : 977.41,\n",
    "          'HK53457' : 9.99,\n",
    "          'DP51673' : 7531.02}"
   ]
  },
  {
   "cell_type": "markdown",
   "metadata": {},
   "source": [
    "**Question 1 :**  \n",
    "\n",
    "Compléter la fonction `nouvel_achat` :\n",
    "- qui prend en paramètres :\n",
    "    - un dictionnaire `dict_achats` comme évoqué ci-dessus,\n",
    "    - une référence client `ref`,\n",
    "    - le montant `m` d'une commande effectuée par le client.\n",
    "    \n",
    "- et **mute** le dictionnaire afin de l'actualiser avec la commande effectuée par le client."
   ]
  },
  {
   "cell_type": "code",
   "execution_count": null,
   "metadata": {},
   "outputs": [],
   "source": [
    "def nouvel_achat(dict_achats, ref, m):\n",
    "    if ... in dict_achats. ... :\n",
    "        dict_achats[...] = ... + ...\n",
    "    else:\n",
    "        dict_achats[...] = ..."
   ]
  },
  {
   "cell_type": "markdown",
   "metadata": {},
   "source": [
    "Tester votre fonction grâce au jeu de tests ci-dessous."
   ]
  },
  {
   "cell_type": "code",
   "execution_count": null,
   "metadata": {},
   "outputs": [],
   "source": [
    "achats = {'AB45112' : 235,\n",
    "          'JC56911' : 3496,\n",
    "          'PO98386' : 977,\n",
    "          'HK53457' : 9,\n",
    "          'DP51673' : 7531}\n",
    "\n",
    "nouvel_achat(achats, 'PO98386', 58)\n",
    "nouvel_achat(achats, 'HK53457', 12)\n",
    "nouvel_achat(achats, 'JC56911', 149)\n",
    "nouvel_achat(achats, 'IQ72342', 1219)\n",
    "\n",
    "\n",
    "\n",
    "assert achats == {'AB45112': 235,\n",
    "                 'JC56911': 3645,\n",
    "                 'PO98386': 1035,\n",
    "                 'HK53457': 21,\n",
    "                 'DP51673': 7531,\n",
    "                 'IQ72342': 1219}"
   ]
  },
  {
   "cell_type": "markdown",
   "metadata": {},
   "source": [
    "**Question 2 :**\n",
    "\n",
    "Completer la fonction `montant_total` :\n",
    "- qui prend en paramètre un dictionnaire `dict_achats` comme évoqué ci-dessus),\n",
    "- et renvoie le montant total des achats des clients de cette catégorie."
   ]
  },
  {
   "cell_type": "code",
   "execution_count": null,
   "metadata": {},
   "outputs": [],
   "source": [
    "def montant_total(dict_achats):\n",
    "    total = 0\n",
    "    for ... in dict_achats. ... :\n",
    "        total = total + ...\n",
    "    return total"
   ]
  },
  {
   "cell_type": "markdown",
   "metadata": {},
   "source": [
    "Tester votre fonction grâce au jeu de tests ci-dessous."
   ]
  },
  {
   "cell_type": "code",
   "execution_count": null,
   "metadata": {},
   "outputs": [],
   "source": [
    "achats = {'AB45112' : 235,\n",
    "          'JC56911' : 3496,\n",
    "          'PO98386' : 977,\n",
    "          'HK53457' : 9,\n",
    "          'DP51673' : 7531}\n",
    "assert montant_total(achats) == 12248\n",
    "\n",
    "achats = {'AB45112' : 32,\n",
    "          'JC56911' : 511,\n",
    "          'PO98386' : 118,\n",
    "          'HK53457' : 9,\n",
    "          'DP51673' : 2,\n",
    "          'BC22222' : 12345}\n",
    "assert montant_total(achats) == 13017\n",
    "\n",
    "achats = {}\n",
    "assert montant_total(achats) == 0"
   ]
  },
  {
   "cell_type": "markdown",
   "metadata": {},
   "source": [
    "## Exercice n°4 : candidats en commun"
   ]
  },
  {
   "cell_type": "markdown",
   "metadata": {},
   "source": [
    "Deux associées diffusent régulièrement des appels d'offre.  \n",
    "À chaque fois elles attendent de recevoir 15 dossiers, numérotés de 1 à 15.  \n",
    "Chacune des deux associées note alors dans une liste les numéros des dossiers qu'elle présélectionne.  \n",
    "Dans un second temps elles sélectionnent les dossiers qui sont présents **à la fois** dans les deux listes pour organiser des entretiens avec les responsables.  \n",
    "\n",
    "\n",
    "Par exemple :\n",
    "- l'associée A présélectionne `[2, 5, 7, 9, 14, 15]`,\n",
    "- l'associée B préselectionne `[1, 3, 5, 9, 12, 13, 15]`,\n",
    "- les deux associées sélectionnent finalement `[5, 9, 15]` pour les entretiens.\n",
    "\n",
    "<hr/>"
   ]
  },
  {
   "cell_type": "markdown",
   "metadata": {},
   "source": [
    "**Question 1:**\n",
    "\n",
    "Compléter la fonction `selectionner_etape_0` qui :\n",
    "- prend en paramètre une liste contenant des entiers compris entre 1 et 15,\n",
    "- renvoie un dictionnaire ayant pour clefs les entiers de 1 à 15 et pour valeurs 0 ou 1 selon que la clef correspondante est présente ou pas dans la liste.  \n",
    "\n",
    "On pourra consulter le jeu de tests si besoin."
   ]
  },
  {
   "cell_type": "code",
   "execution_count": null,
   "metadata": {},
   "outputs": [],
   "source": [
    "def selectionner_etape_0(preselection):\n",
    "    dico = {i:0 for i in range(1, 16)}\n",
    "    for ... in preselection :\n",
    "        dico[...] = ...\n",
    "    return ..."
   ]
  },
  {
   "cell_type": "markdown",
   "metadata": {},
   "source": [
    "Tester votre fonction grâce au jeu de tests ci-dessous."
   ]
  },
  {
   "cell_type": "code",
   "execution_count": null,
   "metadata": {},
   "outputs": [],
   "source": [
    "preselection = [3, 5, 12, 15]\n",
    "assert selectionner_etape_0(preselection) == {1: 0, 2: 0, 3: 1, 4: 0, 5: 1, 6: 0, 7: 0, 8: 0, 9: 0, 10: 0, 11: 0, 12: 1, 13: 0, 14: 0, 15: 1}\n",
    "\n",
    "preselection = [1, 2, 3, 4]\n",
    "assert selectionner_etape_0(preselection) == {1: 1, 2: 1, 3: 1, 4: 1, 5: 0, 6: 0, 7: 0, 8: 0, 9: 0, 10: 0, 11: 0, 12: 0, 13: 0, 14: 0, 15: 0}\n",
    "\n",
    "preselection = []\n",
    "assert selectionner_etape_0(preselection) == {1: 0, 2: 0, 3: 0, 4: 0, 5: 0, 6: 0, 7: 0, 8: 0, 9: 0, 10: 0, 11: 0, 12: 0, 13: 0, 14: 0, 15: 0}\n",
    "\n",
    "preselection = [1, 2, 3, 4, 5, 6, 7, 8, 9, 10, 11, 12, 13, 14, 15]\n",
    "assert selectionner_etape_0(preselection) == {1: 1, 2: 1, 3: 1, 4: 1, 5: 1, 6: 1, 7: 1, 8: 1, 9: 1, 10: 1, 11: 1, 12: 1, 13: 1, 14: 1, 15: 1}"
   ]
  },
  {
   "cell_type": "markdown",
   "metadata": {},
   "source": [
    "**Question 2 :** \n",
    "\n",
    "Compléter la fonction `selection_finale` qui :\n",
    "- prend en paramètres deux listes contenant des entiers entre 1 et 15,\n",
    "- renvoie une liste contenant les entiers présents **à la fois** dans les deux listes.\n",
    "\n",
    "L'idée est de créer un dictionnaire comme ci-dessus pour chacune des deux préselections puis de parcourir les entiers de 1 à 15 et de vérifier opur chacun si les deux valeurs associées dans les deux dictionnaires sont égales à 1.\n",
    "\n",
    "On pourra consulter le jeu de tests si besoin."
   ]
  },
  {
   "cell_type": "code",
   "execution_count": null,
   "metadata": {},
   "outputs": [],
   "source": [
    "def selection_finale(preselection_a, preselection_b):\n",
    "    dico_a = selectionner_etape_0(preselection_a)\n",
    "    dico_b = selectionner_etape_0(preselection_b)\n",
    "    selection_finale = []\n",
    "    for ... in range(1, 16):\n",
    "        if ...[...] == ... and ...[...] == ... :\n",
    "            selection_finale.append(...)\n",
    "    return selection_finale"
   ]
  },
  {
   "cell_type": "markdown",
   "metadata": {},
   "source": [
    "Tester votre fonction grâce au jeu de tests ci-dessous."
   ]
  },
  {
   "cell_type": "code",
   "execution_count": null,
   "metadata": {},
   "outputs": [],
   "source": [
    "p_a = [1, 7, 9, 14, 15]\n",
    "p_b = [3, 7, 11, 12, 14]\n",
    "assert selection_finale(p_a, p_b) == [7, 14]\n",
    "\n",
    "p_a = [1, 2, 3, 6, 7, 9, 11, 12, 14, 15]\n",
    "p_b = [2, 3, 4, 6, 7, 8, 9, 11, 12, 13]\n",
    "assert selection_finale(p_a, p_b) == [2, 3, 6, 7, 9, 11, 12]\n",
    "\n",
    "p_a = [1, 3, 5, 7, 9, 11, 13, 15]\n",
    "p_b = [2, 4, 6, 8, 10, 12, 14]\n",
    "assert selection_finale(p_a, p_b) == []\n",
    "\n",
    "p_a = [1, 2, 3, 4, 5, 6, 7, 8, 9, 10, 11, 12, 13, 14, 15]\n",
    "p_b = [2, 4, 6, 8, 10, 12, 14]\n",
    "assert selection_finale(p_a, p_b) == p_b"
   ]
  }
 ],
 "metadata": {
  "interpreter": {
   "hash": "916dbcbb3f70747c44a77c7bcd40155683ae19c65e1c03b4aa3499c5328201f1"
  },
  "kernelspec": {
   "display_name": "Python 3.9.7 64-bit",
   "language": "python",
   "name": "python3"
  },
  "language_info": {
   "codemirror_mode": {
    "name": "ipython",
    "version": 3
   },
   "file_extension": ".py",
   "mimetype": "text/x-python",
   "name": "python",
   "nbconvert_exporter": "python",
   "pygments_lexer": "ipython3",
   "version": "3.10.0"
  },
  "orig_nbformat": 4
 },
 "nbformat": 4,
 "nbformat_minor": 2
}
